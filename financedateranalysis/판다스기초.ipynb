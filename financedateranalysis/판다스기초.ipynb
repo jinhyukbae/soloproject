{
 "cells": [
  {
   "cell_type": "markdown",
   "id": "acb71635",
   "metadata": {},
   "source": [
    "# 넘파이 기초\n"
   ]
  },
  {
   "cell_type": "code",
   "execution_count": 1,
   "id": "339d150a",
   "metadata": {},
   "outputs": [],
   "source": [
    "import numpy as np \n",
    "import pandas as pd\n"
   ]
  },
  {
   "cell_type": "code",
   "execution_count": 96,
   "id": "125a2dcd",
   "metadata": {},
   "outputs": [],
   "source": [
    "data = [\n",
    "    [100,80,70,90],\n",
    "    [120,110,100,110]\n",
    "]\n",
    "\n"
   ]
  },
  {
   "cell_type": "code",
   "execution_count": 97,
   "id": "7b92a2b5",
   "metadata": {},
   "outputs": [
    {
     "data": {
      "text/plain": [
       "list"
      ]
     },
     "execution_count": 97,
     "metadata": {},
     "output_type": "execute_result"
    }
   ],
   "source": [
    "type(data)"
   ]
  },
  {
   "cell_type": "code",
   "execution_count": 98,
   "id": "84e20a82",
   "metadata": {},
   "outputs": [],
   "source": [
    "arr = np.array(data)"
   ]
  },
  {
   "cell_type": "code",
   "execution_count": 99,
   "id": "c9231ea0",
   "metadata": {},
   "outputs": [
    {
     "data": {
      "text/plain": [
       "numpy.ndarray"
      ]
     },
     "execution_count": 99,
     "metadata": {},
     "output_type": "execute_result"
    }
   ],
   "source": [
    "type(arr)"
   ]
  },
  {
   "cell_type": "code",
   "execution_count": 100,
   "id": "f93970b2",
   "metadata": {},
   "outputs": [
    {
     "data": {
      "text/plain": [
       "100"
      ]
     },
     "execution_count": 100,
     "metadata": {},
     "output_type": "execute_result"
    }
   ],
   "source": [
    "arr[0,0] #행 열 순서대로 접근"
   ]
  },
  {
   "cell_type": "code",
   "execution_count": 101,
   "id": "c4c20911",
   "metadata": {},
   "outputs": [
    {
     "data": {
      "text/plain": [
       "90"
      ]
     },
     "execution_count": 101,
     "metadata": {},
     "output_type": "execute_result"
    }
   ],
   "source": [
    "arr[0,3]"
   ]
  },
  {
   "cell_type": "code",
   "execution_count": 102,
   "id": "73744146",
   "metadata": {},
   "outputs": [
    {
     "data": {
      "text/plain": [
       "array([[100,  80,  70,  90]])"
      ]
     },
     "execution_count": 102,
     "metadata": {},
     "output_type": "execute_result"
    }
   ],
   "source": [
    "arr[0:1] #컬럼 가져오기 [:, ]"
   ]
  },
  {
   "cell_type": "code",
   "execution_count": 103,
   "id": "27f46149",
   "metadata": {},
   "outputs": [
    {
     "data": {
      "text/plain": [
       "array([ 90, 110])"
      ]
     },
     "execution_count": 103,
     "metadata": {},
     "output_type": "execute_result"
    }
   ],
   "source": [
    "arr[:,3] #첫번째 컬럼을 가져와라 세로 줄이 컬럼"
   ]
  },
  {
   "cell_type": "markdown",
   "id": "1ee44622",
   "metadata": {},
   "source": [
    "# Series 기초 pd.Series"
   ]
  },
  {
   "cell_type": "code",
   "execution_count": 104,
   "id": "523d0c6f",
   "metadata": {},
   "outputs": [],
   "source": [
    "arr = [0,1,2,3]\n",
    "data = [100, 200, 300]\n",
    "index = [\"월\",\"화\",\"수\"]"
   ]
  },
  {
   "cell_type": "code",
   "execution_count": 124,
   "id": "52e8f7ff",
   "metadata": {},
   "outputs": [
    {
     "data": {
      "text/plain": [
       "월    100\n",
       "화    200\n",
       "수    300\n",
       "dtype: int64"
      ]
     },
     "execution_count": 124,
     "metadata": {},
     "output_type": "execute_result"
    }
   ],
   "source": [
    "data = [100, 200, 300]\n",
    "index = [\"월\",\"화\",\"수\"]\n",
    "s = pd.Series(data,index)\n",
    "s\n"
   ]
  },
  {
   "cell_type": "code",
   "execution_count": 120,
   "id": "42e46e28",
   "metadata": {},
   "outputs": [
    {
     "data": {
      "text/plain": [
       "Index(['월', '화', '수'], dtype='object')"
      ]
     },
     "execution_count": 120,
     "metadata": {},
     "output_type": "execute_result"
    }
   ],
   "source": [
    "s.index #왼쪽값(인덱스) 가져올때는 s.index"
   ]
  },
  {
   "cell_type": "code",
   "execution_count": 121,
   "id": "81f1284b",
   "metadata": {},
   "outputs": [
    {
     "data": {
      "text/plain": [
       "array([100, 200, 300], dtype=int64)"
      ]
     },
     "execution_count": 121,
     "metadata": {},
     "output_type": "execute_result"
    }
   ],
   "source": [
    "s.values #값을 가져올 때는 values"
   ]
  },
  {
   "cell_type": "code",
   "execution_count": 122,
   "id": "49ce0ae6",
   "metadata": {},
   "outputs": [
    {
     "data": {
      "text/plain": [
       "<PandasArray>\n",
       "[100, 200, 300]\n",
       "Length: 3, dtype: int64"
      ]
     },
     "execution_count": 122,
     "metadata": {},
     "output_type": "execute_result"
    }
   ],
   "source": [
    "s.array # 값을 가져옴 "
   ]
  },
  {
   "cell_type": "code",
   "execution_count": 129,
   "id": "629a4ada",
   "metadata": {},
   "outputs": [
    {
     "data": {
      "text/plain": [
       "array([500, 800, 200], dtype=int64)"
      ]
     },
     "execution_count": 129,
     "metadata": {},
     "output_type": "execute_result"
    }
   ],
   "source": [
    "index = [\"메로나\",\"누가바\",\"ㅃㅃㅋ\"]\n",
    "price = [500,800,200]\n",
    "\n",
    "c = pd.Series(price,index)\n",
    "c\n"
   ]
  },
  {
   "cell_type": "code",
   "execution_count": 130,
   "id": "cd52ef60",
   "metadata": {},
   "outputs": [
    {
     "data": {
      "text/plain": [
       "Index(['메로나', '누가바', 'ㅃㅃㅋ'], dtype='object')"
      ]
     },
     "execution_count": 130,
     "metadata": {},
     "output_type": "execute_result"
    }
   ],
   "source": [
    "c.index"
   ]
  },
  {
   "cell_type": "code",
   "execution_count": 131,
   "id": "c7861101",
   "metadata": {},
   "outputs": [
    {
     "data": {
      "text/plain": [
       "array([500, 800, 200], dtype=int64)"
      ]
     },
     "execution_count": 131,
     "metadata": {},
     "output_type": "execute_result"
    }
   ],
   "source": [
    "c.values"
   ]
  },
  {
   "cell_type": "code",
   "execution_count": 132,
   "id": "b5fc887a",
   "metadata": {},
   "outputs": [
    {
     "data": {
      "text/plain": [
       "<PandasArray>\n",
       "[500, 800, 200]\n",
       "Length: 3, dtype: int64"
      ]
     },
     "execution_count": 132,
     "metadata": {},
     "output_type": "execute_result"
    }
   ],
   "source": [
    "c.array"
   ]
  },
  {
   "cell_type": "markdown",
   "id": "dbc4ac1d",
   "metadata": {},
   "source": [
    "# Series 인덱싱과 슬라이싱 \n",
    "# s.iloc 행번호 인덱싱 \n",
    "# s.loc index로 인덱싱\n",
    "# s[] 대괄호 인덱싱\n",
    "# 딕셔너리 key : value 시리즈 보이지않는 행: index : value"
   ]
  },
  {
   "cell_type": "code",
   "execution_count": 175,
   "id": "d86d237b",
   "metadata": {},
   "outputs": [
    {
     "name": "stdout",
     "output_type": "stream",
     "text": [
      "월    100\n",
      "화    200\n",
      "수    300\n",
      "dtype: int64\n"
     ]
    }
   ],
   "source": [
    "data = [100, 200, 300]\n",
    "index = [\"월\",\"화\",\"수\"]\n",
    "s = pd.Series(data,index)\n",
    "print(s)\n",
    "\n"
   ]
  },
  {
   "cell_type": "code",
   "execution_count": 176,
   "id": "3c4a647f",
   "metadata": {},
   "outputs": [
    {
     "name": "stdout",
     "output_type": "stream",
     "text": [
      "월    100\n",
      "화    200\n",
      "수    300\n",
      "dtype: int64\n",
      "100\n",
      "200\n",
      "300\n"
     ]
    }
   ],
   "source": [
    "print(s)\n",
    "print(s.iloc[0]) #행번호 0번의 값 100 가져옴\n",
    "print(s.iloc[1]) # 200\n",
    "print(s.iloc[2]) # 300"
   ]
  },
  {
   "cell_type": "code",
   "execution_count": 177,
   "id": "5b4d675c",
   "metadata": {},
   "outputs": [
    {
     "name": "stdout",
     "output_type": "stream",
     "text": [
      "월    100\n",
      "화    200\n",
      "수    300\n",
      "dtype: int64\n",
      "100\n",
      "200\n",
      "300\n"
     ]
    }
   ],
   "source": [
    "print(s)\n",
    "print(s.loc[\"월\"]) #월요일에 해당하는 값 100\n",
    "print(s.loc[\"화\"]) # 200\n",
    "print(s.loc[\"수\"]) # 300"
   ]
  },
  {
   "cell_type": "code",
   "execution_count": 178,
   "id": "8cf94cc9",
   "metadata": {},
   "outputs": [
    {
     "name": "stdout",
     "output_type": "stream",
     "text": [
      "월    100\n",
      "화    200\n",
      "수    300\n",
      "dtype: int64\n",
      "100\n",
      "200\n",
      "300\n",
      "100\n",
      "200\n",
      "300\n"
     ]
    }
   ],
   "source": [
    "print(s)\n",
    "print(s[\"월\"]) #인덱스 월요일의 값 100\n",
    "print(s[\"화\"]) \n",
    "print(s[\"수\"])\n",
    "print(s[0]) # 행번호 0번의 값 100\n",
    "print(s[1])\n",
    "print(s[2])"
   ]
  },
  {
   "cell_type": "code",
   "execution_count": 180,
   "id": "439b96db",
   "metadata": {
    "scrolled": true
   },
   "outputs": [
    {
     "name": "stdout",
     "output_type": "stream",
     "text": [
      "월    100\n",
      "화    200\n",
      "수    300\n",
      "dtype: int64\n",
      "월    100\n",
      "화    200\n",
      "dtype: int64\n",
      "월    100\n",
      "화    200\n",
      "수    300\n",
      "dtype: int64\n"
     ]
    }
   ],
   "source": [
    "print(s)\n",
    "print(s.iloc[0:2]) #행번호로 0부터 2-1 까지 출력 월 화 100 200\n",
    "print(s.iloc[0:3])  # 0부터 3-1 까지 "
   ]
  },
  {
   "cell_type": "code",
   "execution_count": 184,
   "id": "adf1bb29",
   "metadata": {},
   "outputs": [
    {
     "name": "stdout",
     "output_type": "stream",
     "text": [
      "월    100\n",
      "화    200\n",
      "수    300\n",
      "dtype: int64\n",
      "월    100\n",
      "화    200\n",
      "dtype: int64\n",
      "화    200\n",
      "수    300\n",
      "dtype: int64\n",
      "월    100\n",
      "화    200\n",
      "수    300\n",
      "dtype: int64\n"
     ]
    }
   ],
   "source": [
    "print(s)\n",
    "print(s.loc[\"월\":\"화\"]) #시작 인덱스 : 끝 인덱스 iloc랑 다르게 -1 안하고 끝까지 포함함 \n",
    "print(s.loc[\"화\":\"수\"])\n",
    "print(s.loc[\"월\":\"수\"])"
   ]
  },
  {
   "cell_type": "markdown",
   "id": "e847907f",
   "metadata": {},
   "source": [
    "# 연속적이지 않은 여러 값을 인덱싱 [[인자1,인자2]]"
   ]
  },
  {
   "cell_type": "code",
   "execution_count": 190,
   "id": "57f44301",
   "metadata": {},
   "outputs": [
    {
     "name": "stdout",
     "output_type": "stream",
     "text": [
      "월    100\n",
      "화    200\n",
      "수    300\n",
      "dtype: int64\n",
      "월    100\n",
      "수    300\n",
      "dtype: int64\n",
      "월    100\n",
      "수    300\n",
      "dtype: int64\n"
     ]
    }
   ],
   "source": [
    "print(s)\n",
    "print(s .iloc[[0,2]])\n",
    "print(s.loc[[\"월\",\"수\"]])"
   ]
  },
  {
   "cell_type": "markdown",
   "id": "90cf7a8c",
   "metadata": {},
   "source": [
    "# Series 추가/삭제/수정\n",
    "# s.loc[인덱스] = 값 추가\n",
    "# s.drop(인덱스)  삭제 ** ()임\n"
   ]
  },
  {
   "cell_type": "code",
   "execution_count": 7,
   "id": "8602ea31",
   "metadata": {},
   "outputs": [
    {
     "name": "stdout",
     "output_type": "stream",
     "text": [
      "월    100\n",
      "화    200\n",
      "수    300\n",
      "목    400\n",
      "dtype: int64\n",
      "월    100\n",
      "화    200\n",
      "수    300\n",
      "목    400\n",
      "dtype: int64\n",
      "월    100\n",
      "화    200\n",
      "수    300\n",
      "dtype: int64\n"
     ]
    }
   ],
   "source": [
    "print(s)\n",
    "s.loc[\"목\"] = 400\n",
    "print(s)\n",
    "s2 = s.drop(\"목\")\n",
    "print(s2)"
   ]
  },
  {
   "cell_type": "code",
   "execution_count": 4,
   "id": "a1b90b54",
   "metadata": {},
   "outputs": [
    {
     "name": "stdout",
     "output_type": "stream",
     "text": [
      "화    200\n",
      "수    300\n",
      "dtype: int64\n"
     ]
    }
   ],
   "source": [
    "data = [100, 200, 300]\n",
    "index = [\"월\",\"화\",\"수\"]\n",
    "s = pd.Series(data,index)\n",
    "s1 = s.drop(\"월\")\n",
    "print(s1)\n",
    "\n"
   ]
  },
  {
   "cell_type": "code",
   "execution_count": 10,
   "id": "467950dd",
   "metadata": {},
   "outputs": [
    {
     "name": "stdout",
     "output_type": "stream",
     "text": [
      "월    1000\n",
      "화    2000\n",
      "수    3000\n",
      "dtype: int64\n"
     ]
    }
   ],
   "source": [
    "data = [100, 200, 300]\n",
    "index = [\"월\",\"화\",\"수\"]\n",
    "s = pd.Series(data,index)\n",
    "\n",
    "s.iloc[0] = 1000 #행번호로 밸류값 수정\n",
    "s.loc[\"화\"] = 2000 #인덱스로 밸류값 수정\n",
    "s[2] = 3000\n",
    "print(s)"
   ]
  },
  {
   "cell_type": "code",
   "execution_count": 15,
   "id": "c561f568",
   "metadata": {},
   "outputs": [
    {
     "data": {
      "text/plain": [
       "삼성       60000\n",
       "하이닉스     83000\n",
       "셀트리온    170000\n",
       "dtype: int64"
      ]
     },
     "execution_count": 15,
     "metadata": {},
     "output_type": "execute_result"
    }
   ],
   "source": [
    "data = [60000, 83000, 170000]\n",
    "index =[\"삼성\",\"하이닉스\",\"셀트리온\"]\n",
    "a = pd.Series(data=data,index=index)\n",
    "a"
   ]
  },
  {
   "cell_type": "code",
   "execution_count": 21,
   "id": "9de07e0a",
   "metadata": {},
   "outputs": [
    {
     "name": "stdout",
     "output_type": "stream",
     "text": [
      "삼성       60000\n",
      "하이닉스     83000\n",
      "셀트리온    170000\n",
      "일동제약     40000\n",
      "신풍제약     22000\n",
      "dtype: int64\n"
     ]
    }
   ],
   "source": [
    "a[\"일동제약\"] = 40000 #추가\n",
    "print(a)"
   ]
  },
  {
   "cell_type": "code",
   "execution_count": 22,
   "id": "deaa3fd9",
   "metadata": {},
   "outputs": [
    {
     "name": "stdout",
     "output_type": "stream",
     "text": [
      "삼성       60000\n",
      "하이닉스     83000\n",
      "셀트리온    170000\n",
      "일동제약     40000\n",
      "신풍제약     22000\n",
      "dtype: int64\n"
     ]
    }
   ],
   "source": [
    "a.loc[\"신풍제약\"] = 22000\n",
    "print(a)"
   ]
  },
  {
   "cell_type": "code",
   "execution_count": 24,
   "id": "7c1d0390",
   "metadata": {},
   "outputs": [
    {
     "name": "stdout",
     "output_type": "stream",
     "text": [
      "삼성       60000\n",
      "하이닉스     83000\n",
      "셀트리온    170000\n",
      "일동제약     40000\n",
      "dtype: int64\n"
     ]
    }
   ],
   "source": [
    "#원본은 냅둠\n",
    "a1= a.drop(\"신풍제약\")\n",
    "print(a1) "
   ]
  },
  {
   "cell_type": "code",
   "execution_count": 29,
   "id": "f040517c",
   "metadata": {},
   "outputs": [
    {
     "name": "stdout",
     "output_type": "stream",
     "text": [
      "삼성       60000\n",
      "하이닉스     83000\n",
      "셀트리온    170000\n",
      "일동제약     40000\n",
      "dtype: int64\n"
     ]
    }
   ],
   "source": [
    "#원본도 지움 a.drop(\"신풍제약\", inplace=True)\n",
    "print(a)"
   ]
  },
  {
   "cell_type": "code",
   "execution_count": 32,
   "id": "155f3c17",
   "metadata": {},
   "outputs": [
    {
     "name": "stdout",
     "output_type": "stream",
     "text": [
      "삼성        60000\n",
      "하이닉스      83000\n",
      "셀트리온     170000\n",
      "일동제약      40000\n",
      "신풍제약    28600.0\n",
      "dtype: object\n"
     ]
    }
   ],
   "source": [
    "# loc를 통한 인덱스 로 값 수정\n",
    "a.loc[\"신풍제약\"] = 22000 + (22000 *0.3)  \n",
    "print(a)"
   ]
  },
  {
   "cell_type": "code",
   "execution_count": 34,
   "id": "44bbb64b",
   "metadata": {},
   "outputs": [
    {
     "name": "stdout",
     "output_type": "stream",
     "text": [
      "삼성      78000.0\n",
      "하이닉스      83000\n",
      "셀트리온     170000\n",
      "일동제약      40000\n",
      "신풍제약    28600.0\n",
      "dtype: object\n"
     ]
    }
   ],
   "source": [
    "# 다이렉트로 수정\n",
    "a[\"삼성\"] = 60000 + 60000 * 0.3\n",
    "print(a)"
   ]
  },
  {
   "cell_type": "code",
   "execution_count": 38,
   "id": "b67f3ea0",
   "metadata": {},
   "outputs": [
    {
     "name": "stdout",
     "output_type": "stream",
     "text": [
      "삼성       78000.0\n",
      "하이닉스    107900.0\n",
      "셀트리온      170000\n",
      "일동제약       40000\n",
      "신풍제약     28600.0\n",
      "dtype: object\n"
     ]
    }
   ],
   "source": [
    "# iloc를 이용한 행번호로 값 수정\n",
    "a.iloc[1] = 83000 + 83000 * 0.3\n",
    "print(a)"
   ]
  },
  {
   "cell_type": "code",
   "execution_count": 43,
   "id": "190b57e6",
   "metadata": {},
   "outputs": [
    {
     "name": "stdout",
     "output_type": "stream",
     "text": [
      "삼성       78000.0\n",
      "하이닉스    107900.0\n",
      "셀트리온      170000\n",
      "일동제약       40000\n",
      "신풍제약     28600.0\n",
      "녹십자       130000\n",
      "dtype: object\n",
      "삼성       78000.0\n",
      "하이닉스    107900.0\n",
      "셀트리온      170000\n",
      "일동제약       40000\n",
      "신풍제약     28600.0\n",
      "녹십자     169000.0\n",
      "dtype: object\n",
      "삼성       78000.0\n",
      "하이닉스    107900.0\n",
      "셀트리온      170000\n",
      "일동제약       40000\n",
      "신풍제약     28600.0\n",
      "dtype: object\n"
     ]
    }
   ],
   "source": [
    "a.loc[\"녹십자\"] = 130000\n",
    "print(a)\n",
    "a.loc[\"녹십자\"] = 130000 + 130000 * 0.3\n",
    "print(a)\n",
    "a10 = a.drop(\"녹십자\")\n",
    "print(a10)"
   ]
  },
  {
   "cell_type": "markdown",
   "id": "e0487291",
   "metadata": {},
   "source": [
    "# 시리즈 연산\n",
    "# 브로드 캐스팅 연산이 시리즈 객체 전체 값에 적용 (반복문 사용 x)\n",
    "# 사칙연산 인덱스를 기준으로 사칙연산 적용 반복문 사용 x"
   ]
  },
  {
   "cell_type": "code",
   "execution_count": 58,
   "id": "1035c3d6",
   "metadata": {},
   "outputs": [
    {
     "name": "stdout",
     "output_type": "stream",
     "text": [
      "0    110\n",
      "1    210\n",
      "2    310\n",
      "dtype: int64\n"
     ]
    }
   ],
   "source": [
    "s=pd.Series([100,200,300])\n",
    "print(s + 10 )"
   ]
  },
  {
   "cell_type": "code",
   "execution_count": 59,
   "id": "ea4128f6",
   "metadata": {},
   "outputs": [
    {
     "name": "stdout",
     "output_type": "stream",
     "text": [
      "0     800\n",
      "1     700\n",
      "2    2000\n",
      "3     700\n",
      "4     800\n",
      "dtype: int64\n"
     ]
    }
   ],
   "source": [
    "high = pd.Series([51500, 51200, 52500, 51500, 51500])\n",
    "low = pd.Series([50700, 50500, 50500, 50800, 50700])\n",
    "diff = high-low\n",
    "print(diff)"
   ]
  },
  {
   "cell_type": "code",
   "execution_count": 66,
   "id": "ab8d8a5a",
   "metadata": {},
   "outputs": [
    {
     "name": "stdout",
     "output_type": "stream",
     "text": [
      "5/1    51500\n",
      "5/2    51200\n",
      "5/3    52500\n",
      "dtype: int64\n",
      "5/1    50700\n",
      "5/2    50500\n",
      "5/4    50500\n",
      "dtype: int64\n",
      "5/1    800.0\n",
      "5/2    700.0\n",
      "5/3      NaN\n",
      "5/4      NaN\n",
      "dtype: float64\n"
     ]
    }
   ],
   "source": [
    "high = pd.Series(data = [51500, 51200, 52500], index = [\"5/1\",\"5/2\",\"5/3\"])\n",
    "low = pd.Series(data = [50700, 50500, 50500], index = [\"5/1\",\"5/2\",\"5/4\"])\n",
    "print(high)\n",
    "print(low)\n",
    "diff = high-low\n",
    "print(diff)"
   ]
  },
  {
   "cell_type": "code",
   "execution_count": 67,
   "id": "8dbbb15e",
   "metadata": {},
   "outputs": [
    {
     "name": "stdout",
     "output_type": "stream",
     "text": [
      "0    False\n",
      "1    False\n",
      "2    False\n",
      "3     True\n",
      "4     True\n",
      "dtype: bool\n"
     ]
    }
   ],
   "source": [
    "# 비교연산 boolean 타입으로 리턴 \n",
    "s = pd.Series([100,200,300,400,500])\n",
    "cond = s > 300\n",
    "print(cond)"
   ]
  },
  {
   "cell_type": "code",
   "execution_count": 68,
   "id": "1ff7eb0f",
   "metadata": {},
   "outputs": [
    {
     "data": {
      "text/plain": [
       "3    400\n",
       "4    500\n",
       "dtype: int64"
      ]
     },
     "execution_count": 68,
     "metadata": {},
     "output_type": "execute_result"
    }
   ],
   "source": [
    "# true false 값을 통해서 true 값만 필터링 가능\n",
    "s = pd.Series(data = [100,200,300,400,500])\n",
    "cond = [False,False,False,True,True]\n",
    "s[cond]"
   ]
  },
  {
   "cell_type": "code",
   "execution_count": 70,
   "id": "e4333eff",
   "metadata": {},
   "outputs": [
    {
     "data": {
      "text/plain": [
       "3    400\n",
       "4    500\n",
       "dtype: int64"
      ]
     },
     "execution_count": 70,
     "metadata": {},
     "output_type": "execute_result"
    }
   ],
   "source": [
    "# 비교연산자의 결과 시리즈를 사용하여 인덱싱하면 조건을 만족하는 데이터만 필터링 가능 \n",
    "s = pd.Series(data = [100,200,300,400,500])\n",
    "cond = s > 300\n",
    "s[cond]"
   ]
  },
  {
   "cell_type": "code",
   "execution_count": 85,
   "id": "a05fce36",
   "metadata": {},
   "outputs": [
    {
     "name": "stdout",
     "output_type": "stream",
     "text": [
      "0    False\n",
      "1    False\n",
      "2     True\n",
      "3     True\n",
      "4     True\n",
      "dtype: bool\n",
      "2    400\n",
      "3    500\n",
      "4    600\n",
      "dtype: int64\n",
      "ㅡㅡㅡㅡㅡㅡㅡㅡㅡㅡㅡㅡㅡ\n",
      "0    False\n",
      "1    False\n",
      "2     True\n",
      "3     True\n",
      "4     True\n",
      "dtype: bool\n",
      "2    400\n",
      "3    500\n",
      "4    600\n",
      "dtype: int64\n"
     ]
    }
   ],
   "source": [
    "시가 = pd.Series([100,200,300,400,500])\n",
    "종가 = pd.Series([100,300,400,500,600])\n",
    "\n",
    "조건 = 시가 >= 300 # 100 200 false 300 400 500 true\n",
    "print(조건)\n",
    "\n",
    "#시가가 300원 이상인 날에 종가 데이터 가져오기\n",
    "\n",
    "print(종가[조건])\n",
    "\n",
    "#조건을 만들고 조건을 시리즈에 넣으면 s[조건] 하면 조건에 해당하는 값들만 필터링 \n",
    "\n",
    "\n",
    "\n",
    "\n",
    "print(\"ㅡㅡㅡㅡㅡㅡㅡㅡㅡㅡㅡㅡㅡ\")\n",
    "\n",
    "\n",
    "a = pd.Series([100,200,300,400,500])\n",
    "b = pd.Series([100,300,400,500,600])\n",
    "\n",
    "c = a >= 300\n",
    "print(c)\n",
    "\n",
    "print(b[c])"
   ]
  },
  {
   "cell_type": "code",
   "execution_count": 87,
   "id": "570ad3dc",
   "metadata": {},
   "outputs": [
    {
     "name": "stdout",
     "output_type": "stream",
     "text": [
      "0    False\n",
      "1     True\n",
      "2     True\n",
      "3     True\n",
      "4    False\n",
      "dtype: bool\n",
      "1    300\n",
      "2    400\n",
      "3    500\n",
      "dtype: int64\n"
     ]
    }
   ],
   "source": [
    "a = pd.Series([10,200,200,400,600])\n",
    "b = pd.Series([100,300,400,500,600])\n",
    "c = b - a >= 100\n",
    "print(c)\n",
    "print(b[c])\n"
   ]
  },
  {
   "cell_type": "code",
   "execution_count": 95,
   "id": "61fa34e3",
   "metadata": {},
   "outputs": [
    {
     "name": "stdout",
     "output_type": "stream",
     "text": [
      "05/14    93000\n",
      "05/15    82400\n",
      "05/16    99100\n",
      "05/17    81000\n",
      "05/18    72300\n",
      "dtype: int64\n"
     ]
    },
    {
     "data": {
      "text/plain": [
       "Index(['05/15', '05/17'], dtype='object')"
      ]
     },
     "execution_count": 95,
     "metadata": {},
     "output_type": "execute_result"
    }
   ],
   "source": [
    "# 판다스 and = & or = | not = ~\n",
    "# 종가 = pd.Series([93000,82400,99100,81000,72300],\n",
    "#         ['05/14','05/15','05/16','05/17','05/18'])\n",
    "\n",
    "data = [93000,82400,99100,81000,72300]\n",
    "index = ['05/14','05/15','05/16','05/17','05/18']\n",
    "종가 = pd.Series(data = data , index = index)\n",
    "\n",
    "print(종가)\n",
    "조건 = (종가 >= 80000) & (종가 < 90000)\n",
    "종가[조건] # s[인자] 필터링 하면 인자에 해당하는 대상만 필터링\n",
    "종가[조건].index # 날짜만 구하라 했으므로 날짜=인덱스 니까 인덱스 \n",
    "\n",
    "#종가.index[[1,3]]"
   ]
  },
  {
   "cell_type": "code",
   "execution_count": 96,
   "id": "22d7ab1a",
   "metadata": {},
   "outputs": [
    {
     "name": "stdout",
     "output_type": "stream",
     "text": [
      "05/15\n",
      "05/17\n"
     ]
    }
   ],
   "source": [
    "for i in 종가[조건].index:\n",
    "    print(i)"
   ]
  },
  {
   "cell_type": "markdown",
   "id": "822d7541",
   "metadata": {},
   "source": [
    "# DataFrame = 2 차원 데이터를 효과적으로 표현한 판다스 자료구조\n",
    "# DataFrame 생성\n",
    "# 2차원 표에서 컬럼 단위로 데이터를 표현 컬럼명을 딕셔너리의 key로 데이터는 딕셔너리의 values로 사용"
   ]
  },
  {
   "cell_type": "code",
   "execution_count": 97,
   "id": "14012f48",
   "metadata": {},
   "outputs": [
    {
     "name": "stdout",
     "output_type": "stream",
     "text": [
      "           종가     PER   PBR\n",
      "NAVER  157000   39.88  4.38\n",
      "삼성전자    51300    8.52  1.45\n",
      "LG전자    68800   10.03  0.87\n",
      "카카오    140000  228.38  2.16\n",
      "ㅡㅡㅡㅡㅡㅡㅡㅡㅡㅡㅡㅡㅡㅡㅡㅡㅡㅡㅡㅡㅡㅡㅡㅡ\n"
     ]
    }
   ],
   "source": [
    "#2차원 표에서 컬럼 단위로 데이터 표현\n",
    "#세로방향 컬럼방향으로 데이터 표현\n",
    "from pandas import DataFrame\n",
    "data = {\n",
    "    \"종가\" : [157000, 51300, 68800, 140000],\n",
    "    \"PER\" : [39.88, 8.52, 10.03, 228.38],\n",
    "    \"PBR\" : [4.38, 1.45, 0.87, 2.16] \n",
    "} #key값에 해당하는 종가 per pbr등은 위로 (열로) \n",
    "\n",
    "index = ['NAVER', '삼성전자', 'LG전자', '카카오'] #세로로 (행으로)\n",
    "\n",
    "df = DataFrame(data,index)\n",
    "print(df)\n",
    "\n",
    "print(\"ㅡㅡㅡㅡㅡㅡㅡㅡㅡㅡㅡㅡㅡㅡㅡㅡㅡㅡㅡㅡㅡㅡㅡㅡ\")"
   ]
  },
  {
   "cell_type": "markdown",
   "id": "0bfdceb2",
   "metadata": {},
   "source": [
    "# 이거 쉬움★★★★★★★★★★★★★★★★★★★★★★★★★★★★★★★★★★★★★★★★★★"
   ]
  },
  {
   "cell_type": "code",
   "execution_count": 101,
   "id": "0364cb22",
   "metadata": {},
   "outputs": [
    {
     "name": "stdout",
     "output_type": "stream",
     "text": [
      "           종가     PER   PBR\n",
      "NAVER  157000   39.88  4.38\n",
      "삼성전자    51300    8.52  1.45\n",
      "LG전자    68800   10.03  0.87\n",
      "카카오    140000  228.38  2.16\n"
     ]
    }
   ],
   "source": [
    "\n",
    "data = []\n",
    "data.append([157000, 39.88, 4.38])\n",
    "data.append([51300, 8.52, 1.45])\n",
    "data.append([68800, 10.03, 0.87])\n",
    "data.append([140000, 228.38, 2.16])\n",
    "\n",
    "index = ['NAVER', '삼성전자', 'LG전자', '카카오']\n",
    "columns = ['종가','PER','PBR']\n",
    "\n",
    "df = DataFrame(data=data,index=index,columns=columns)\n",
    "print(df)"
   ]
  },
  {
   "cell_type": "code",
   "execution_count": 98,
   "id": "36554cf7",
   "metadata": {},
   "outputs": [
    {
     "name": "stdout",
     "output_type": "stream",
     "text": [
      "           종가     PER   PBR\n",
      "NAVER  157000   39.88  4.38\n",
      "삼성전자    51300    8.52  1.45\n",
      "LG전자    68800   10.03  0.87\n",
      "카카오    140000  228.38  2.16\n"
     ]
    }
   ],
   "source": [
    "#2차원 표에서 로우 단위로 데이터를 리스트로 표현\n",
    "# data,index,columns를 각각 리스트로 표현 \n",
    "\n",
    "from pandas import DataFrame\n",
    "data = [\n",
    "    [157000, 39.88, 4.38],\n",
    "    [51300, 8.52, 1.45],\n",
    "    [68800, 10.03, 0.87],\n",
    "    [140000, 228.38, 2.16]\n",
    "] \n",
    "\n",
    "index = ['NAVER', '삼성전자', 'LG전자', '카카오']\n",
    "columns = ['종가','PER','PBR']\n",
    "df = DataFrame(data=data, index=index, columns=columns)\n",
    "print(df)"
   ]
  },
  {
   "cell_type": "code",
   "execution_count": 99,
   "id": "71c7f9cf",
   "metadata": {},
   "outputs": [
    {
     "name": "stdout",
     "output_type": "stream",
     "text": [
      "           종가     PER   PBR\n",
      "NAVER  157000   39.88  4.38\n",
      "삼성전자    51300    8.52  1.45\n",
      "LG전자    68800   10.03  0.87\n",
      "카카오    140000  228.38  2.16\n"
     ]
    }
   ],
   "source": [
    "#2차원 표에서 로우단위로 데이터를 딕셔너리로 표현\n",
    "\n",
    "from pandas import DataFrame\n",
    "\n",
    "data = [\n",
    "    {\"종가\": 157000, \"PER\":39.88, \"PBR\":4.38},\n",
    "    {\"종가\": 51300, \"PER\":8.52, \"PBR\":1.45},\n",
    "    {\"종가\": 68800, \"PER\":10.03, \"PBR\":0.87},\n",
    "    {\"종가\": 140000, \"PER\":228.38, \"PBR\":2.16}\n",
    "    # 딕셔너리의 각각의 key 값이 columns 명으로 인식 됨\n",
    "        \n",
    "]\n",
    "\n",
    "index = ['NAVER', '삼성전자', 'LG전자', '카카오']\n",
    "df = DataFrame(data=data, index=index) # 딕셔너리의 각각의 key 값이 columns 명으로 인식 되어 columns = columns 를 쓸 필요 없음 \n",
    "print(df)"
   ]
  },
  {
   "cell_type": "code",
   "execution_count": 100,
   "id": "b28d1e5c",
   "metadata": {},
   "outputs": [
    {
     "name": "stdout",
     "output_type": "stream",
     "text": [
      "     시가   고가   저가   종가\n",
      "비트  980  990  920  930\n",
      "리플  200  300  180  180\n",
      "이더  300  500  300  400\n"
     ]
    }
   ],
   "source": [
    "#자주 쓸 방법 \n",
    "data = [] #데이타 라는 빈리스트를 만들어서\n",
    "data.append([980,990,920,930]) #리스트 값들을 data에 추가 해주면 2차원리스트가 되고\n",
    "data.append([200,300,180,180])\n",
    "data.append([300,500,300,400])\n",
    "index = ['비트','리플','이더'] # 세로\n",
    "columns = ['시가','고가','저가','종가'] #가로 \n",
    "#2차원 리스트로 데이터프레임 생성 하는 방법은 data값 index값 columns 값이 필요\n",
    "\n",
    "df = DataFrame(data=data,index=index,columns=columns)\n",
    "print(df)"
   ]
  },
  {
   "cell_type": "markdown",
   "id": "f67bcc6b",
   "metadata": {},
   "source": [
    "# DataFrame 인덱싱 슬라이싱\n",
    "# 대괄호['컬럼명']을 통해서 단일 컬럼 선택 가능\n",
    "# df['종가']\n",
    "# 컬럼을 표현하는 시리즈 타입의 객체 index 회사 이름 value는 종가\n"
   ]
  },
  {
   "cell_type": "code",
   "execution_count": 12,
   "id": "36621237",
   "metadata": {},
   "outputs": [
    {
     "name": "stdout",
     "output_type": "stream",
     "text": [
      "           종가     PER   PBR\n",
      "NAVER  157000   39.88  4.38\n",
      "삼성전자    51300    8.52  1.45\n",
      "LG전자    68800   10.03  0.87\n",
      "카카오    140000  228.38  2.16\n",
      "NAVER     39.88\n",
      "삼성전자       8.52\n",
      "LG전자      10.03\n",
      "카카오      228.38\n",
      "Name: PER, dtype: float64\n",
      "NAVER    4.38\n",
      "삼성전자     1.45\n",
      "LG전자     0.87\n",
      "카카오      2.16\n",
      "Name: PBR, dtype: float64\n"
     ]
    }
   ],
   "source": [
    "import pandas as pd\n",
    "\n",
    "data = []\n",
    "data.append([157000,39.88,4.38])\n",
    "data.append([51300,8.52,1.45])\n",
    "data.append([68800,10.03,0.87])\n",
    "data.append([140000,228.38,2.16])\n",
    "\n",
    "index = ['NAVER', '삼성전자', 'LG전자', '카카오']\n",
    "columns = ['종가','PER','PBR']\n",
    "\n",
    "df = pd.DataFrame(data=data,index=index,columns=columns)\n",
    "print(df)\n",
    "\n",
    "df['종가'] # 한줄로 표현 되기 때문에 Series임 이 때 왼쪽에 회사 이름이 key값 오른쪽에 숫자가 value 값 \n",
    "print(df['PER'])\n",
    "print(df['PBR'])"
   ]
  },
  {
   "cell_type": "markdown",
   "id": "ca44daa6",
   "metadata": {},
   "source": [
    "# 멀티 컬럼 \n",
    "# df[['컬럼1','컬럼2']]"
   ]
  },
  {
   "cell_type": "code",
   "execution_count": 11,
   "id": "7b6d174a",
   "metadata": {},
   "outputs": [
    {
     "data": {
      "text/html": [
       "<div>\n",
       "<style scoped>\n",
       "    .dataframe tbody tr th:only-of-type {\n",
       "        vertical-align: middle;\n",
       "    }\n",
       "\n",
       "    .dataframe tbody tr th {\n",
       "        vertical-align: top;\n",
       "    }\n",
       "\n",
       "    .dataframe thead th {\n",
       "        text-align: right;\n",
       "    }\n",
       "</style>\n",
       "<table border=\"1\" class=\"dataframe\">\n",
       "  <thead>\n",
       "    <tr style=\"text-align: right;\">\n",
       "      <th></th>\n",
       "      <th>종가</th>\n",
       "      <th>PER</th>\n",
       "    </tr>\n",
       "  </thead>\n",
       "  <tbody>\n",
       "    <tr>\n",
       "      <th>NAVER</th>\n",
       "      <td>157000</td>\n",
       "      <td>39.88</td>\n",
       "    </tr>\n",
       "    <tr>\n",
       "      <th>삼성전자</th>\n",
       "      <td>51300</td>\n",
       "      <td>8.52</td>\n",
       "    </tr>\n",
       "    <tr>\n",
       "      <th>LG전자</th>\n",
       "      <td>68800</td>\n",
       "      <td>10.03</td>\n",
       "    </tr>\n",
       "    <tr>\n",
       "      <th>카카오</th>\n",
       "      <td>140000</td>\n",
       "      <td>228.38</td>\n",
       "    </tr>\n",
       "  </tbody>\n",
       "</table>\n",
       "</div>"
      ],
      "text/plain": [
       "           종가     PER\n",
       "NAVER  157000   39.88\n",
       "삼성전자    51300    8.52\n",
       "LG전자    68800   10.03\n",
       "카카오    140000  228.38"
      ]
     },
     "execution_count": 11,
     "metadata": {},
     "output_type": "execute_result"
    }
   ],
   "source": [
    "df[['종가','PER']]"
   ]
  },
  {
   "cell_type": "code",
   "execution_count": 13,
   "id": "d589befd",
   "metadata": {},
   "outputs": [
    {
     "data": {
      "text/html": [
       "<div>\n",
       "<style scoped>\n",
       "    .dataframe tbody tr th:only-of-type {\n",
       "        vertical-align: middle;\n",
       "    }\n",
       "\n",
       "    .dataframe tbody tr th {\n",
       "        vertical-align: top;\n",
       "    }\n",
       "\n",
       "    .dataframe thead th {\n",
       "        text-align: right;\n",
       "    }\n",
       "</style>\n",
       "<table border=\"1\" class=\"dataframe\">\n",
       "  <thead>\n",
       "    <tr style=\"text-align: right;\">\n",
       "      <th></th>\n",
       "      <th>PER</th>\n",
       "      <th>PBR</th>\n",
       "    </tr>\n",
       "  </thead>\n",
       "  <tbody>\n",
       "    <tr>\n",
       "      <th>NAVER</th>\n",
       "      <td>39.88</td>\n",
       "      <td>4.38</td>\n",
       "    </tr>\n",
       "    <tr>\n",
       "      <th>삼성전자</th>\n",
       "      <td>8.52</td>\n",
       "      <td>1.45</td>\n",
       "    </tr>\n",
       "    <tr>\n",
       "      <th>LG전자</th>\n",
       "      <td>10.03</td>\n",
       "      <td>0.87</td>\n",
       "    </tr>\n",
       "    <tr>\n",
       "      <th>카카오</th>\n",
       "      <td>228.38</td>\n",
       "      <td>2.16</td>\n",
       "    </tr>\n",
       "  </tbody>\n",
       "</table>\n",
       "</div>"
      ],
      "text/plain": [
       "          PER   PBR\n",
       "NAVER   39.88  4.38\n",
       "삼성전자     8.52  1.45\n",
       "LG전자    10.03  0.87\n",
       "카카오    228.38  2.16"
      ]
     },
     "execution_count": 13,
     "metadata": {},
     "output_type": "execute_result"
    }
   ],
   "source": [
    "df[['PER','PBR']]"
   ]
  },
  {
   "cell_type": "markdown",
   "id": "945c9526",
   "metadata": {},
   "source": [
    "# [] 컬럼 단위(세로만 출력)\n",
    "# 로우 단위 출력 loc 문자(인덱스) iloc 숫자(행번호 ) "
   ]
  },
  {
   "cell_type": "code",
   "execution_count": 22,
   "id": "0b5a2c86",
   "metadata": {},
   "outputs": [
    {
     "data": {
      "text/html": [
       "<div>\n",
       "<style scoped>\n",
       "    .dataframe tbody tr th:only-of-type {\n",
       "        vertical-align: middle;\n",
       "    }\n",
       "\n",
       "    .dataframe tbody tr th {\n",
       "        vertical-align: top;\n",
       "    }\n",
       "\n",
       "    .dataframe thead th {\n",
       "        text-align: right;\n",
       "    }\n",
       "</style>\n",
       "<table border=\"1\" class=\"dataframe\">\n",
       "  <thead>\n",
       "    <tr style=\"text-align: right;\">\n",
       "      <th></th>\n",
       "      <th>종가</th>\n",
       "      <th>PER</th>\n",
       "      <th>PBR</th>\n",
       "    </tr>\n",
       "  </thead>\n",
       "  <tbody>\n",
       "    <tr>\n",
       "      <th>NAVER</th>\n",
       "      <td>157000</td>\n",
       "      <td>39.88</td>\n",
       "      <td>4.38</td>\n",
       "    </tr>\n",
       "    <tr>\n",
       "      <th>삼성전자</th>\n",
       "      <td>51300</td>\n",
       "      <td>8.52</td>\n",
       "      <td>1.45</td>\n",
       "    </tr>\n",
       "  </tbody>\n",
       "</table>\n",
       "</div>"
      ],
      "text/plain": [
       "           종가    PER   PBR\n",
       "NAVER  157000  39.88  4.38\n",
       "삼성전자    51300   8.52  1.45"
      ]
     },
     "execution_count": 22,
     "metadata": {},
     "output_type": "execute_result"
    }
   ],
   "source": [
    "df.loc['삼성전자']\n",
    "df.iloc[2]\n",
    "\n",
    "df.loc[['삼성전자','카카오']]\n",
    "df.iloc[[0,2]]\n",
    "\n",
    "df.loc[\"NAVER\":\"LG전자\"]\n",
    "df.iloc[0:2]"
   ]
  },
  {
   "cell_type": "markdown",
   "id": "d2acc4a8",
   "metadata": {},
   "source": [
    "# 특정 값 가져오기\n",
    "# df.iloc[행번호,행번호] df.loc['인덱스','컬럼명']"
   ]
  },
  {
   "cell_type": "code",
   "execution_count": 23,
   "id": "9373c0db",
   "metadata": {},
   "outputs": [
    {
     "data": {
      "text/html": [
       "<div>\n",
       "<style scoped>\n",
       "    .dataframe tbody tr th:only-of-type {\n",
       "        vertical-align: middle;\n",
       "    }\n",
       "\n",
       "    .dataframe tbody tr th {\n",
       "        vertical-align: top;\n",
       "    }\n",
       "\n",
       "    .dataframe thead th {\n",
       "        text-align: right;\n",
       "    }\n",
       "</style>\n",
       "<table border=\"1\" class=\"dataframe\">\n",
       "  <thead>\n",
       "    <tr style=\"text-align: right;\">\n",
       "      <th></th>\n",
       "      <th>종목명</th>\n",
       "      <th>현재가</th>\n",
       "      <th>등락률</th>\n",
       "    </tr>\n",
       "  </thead>\n",
       "  <tbody>\n",
       "    <tr>\n",
       "      <th>037730</th>\n",
       "      <td>3R</td>\n",
       "      <td>1510</td>\n",
       "      <td>7.36</td>\n",
       "    </tr>\n",
       "    <tr>\n",
       "      <th>036360</th>\n",
       "      <td>3SOFT</td>\n",
       "      <td>1790</td>\n",
       "      <td>1.65</td>\n",
       "    </tr>\n",
       "    <tr>\n",
       "      <th>005760</th>\n",
       "      <td>ACTS</td>\n",
       "      <td>1185</td>\n",
       "      <td>1.28</td>\n",
       "    </tr>\n",
       "  </tbody>\n",
       "</table>\n",
       "</div>"
      ],
      "text/plain": [
       "          종목명   현재가   등락률\n",
       "037730     3R  1510  7.36\n",
       "036360  3SOFT  1790  1.65\n",
       "005760   ACTS  1185  1.28"
      ]
     },
     "execution_count": 23,
     "metadata": {},
     "output_type": "execute_result"
    }
   ],
   "source": [
    "from pandas import DataFrame\n",
    "\n",
    "data = []\n",
    "data.append(['3R',1510,7.36])\n",
    "data.append(['3SOFT',1790,1.65])\n",
    "data.append(['ACTS',1185,1.28])\n",
    "\n",
    "index = ['037730','036360','005760']\n",
    "columns = ['종목명','현재가','등락률']\n",
    "\n",
    "df = DataFrame(data=data, index=index, columns=columns)\n",
    "df"
   ]
  },
  {
   "cell_type": "code",
   "execution_count": 27,
   "id": "2e54a8cf",
   "metadata": {},
   "outputs": [
    {
     "data": {
      "text/plain": [
       "1.65"
      ]
     },
     "execution_count": 27,
     "metadata": {},
     "output_type": "execute_result"
    }
   ],
   "source": [
    "df.iloc[1,1]\n",
    "df.loc['036360','등락률']"
   ]
  },
  {
   "cell_type": "code",
   "execution_count": 28,
   "id": "cb593f44",
   "metadata": {},
   "outputs": [
    {
     "data": {
      "text/plain": [
       "7.36"
      ]
     },
     "execution_count": 28,
     "metadata": {},
     "output_type": "execute_result"
    }
   ],
   "source": [
    "df.iloc[0,2]"
   ]
  },
  {
   "cell_type": "markdown",
   "id": "8be1dcfb",
   "metadata": {},
   "source": [
    "# 영역 가져오기\n",
    "# df.iloc[[행번호리스트,열번호리스트]]\n",
    "# df.loc[['인덱스리스트','컬럼명리스트']]"
   ]
  },
  {
   "cell_type": "code",
   "execution_count": 40,
   "id": "50105f01",
   "metadata": {},
   "outputs": [
    {
     "data": {
      "text/html": [
       "<div>\n",
       "<style scoped>\n",
       "    .dataframe tbody tr th:only-of-type {\n",
       "        vertical-align: middle;\n",
       "    }\n",
       "\n",
       "    .dataframe tbody tr th {\n",
       "        vertical-align: top;\n",
       "    }\n",
       "\n",
       "    .dataframe thead th {\n",
       "        text-align: right;\n",
       "    }\n",
       "</style>\n",
       "<table border=\"1\" class=\"dataframe\">\n",
       "  <thead>\n",
       "    <tr style=\"text-align: right;\">\n",
       "      <th></th>\n",
       "      <th>등락률</th>\n",
       "    </tr>\n",
       "  </thead>\n",
       "  <tbody>\n",
       "    <tr>\n",
       "      <th>005760</th>\n",
       "      <td>1.28</td>\n",
       "    </tr>\n",
       "  </tbody>\n",
       "</table>\n",
       "</div>"
      ],
      "text/plain": [
       "         등락률\n",
       "005760  1.28"
      ]
     },
     "execution_count": 40,
     "metadata": {},
     "output_type": "execute_result"
    }
   ],
   "source": [
    "df.iloc[[1,2],[1,2]] #앞쪽은 행번호 0부터 1번까지 범위 뒤쪽은 열번호 0부터1번까지 범위 영역 가져옴 \n",
    "df.iloc[0:2,0:2]\n",
    "df.iloc[2:4,2:4]\n"
   ]
  },
  {
   "cell_type": "code",
   "execution_count": 35,
   "id": "4ab7fcaf",
   "metadata": {},
   "outputs": [
    {
     "data": {
      "text/html": [
       "<div>\n",
       "<style scoped>\n",
       "    .dataframe tbody tr th:only-of-type {\n",
       "        vertical-align: middle;\n",
       "    }\n",
       "\n",
       "    .dataframe tbody tr th {\n",
       "        vertical-align: top;\n",
       "    }\n",
       "\n",
       "    .dataframe thead th {\n",
       "        text-align: right;\n",
       "    }\n",
       "</style>\n",
       "<table border=\"1\" class=\"dataframe\">\n",
       "  <thead>\n",
       "    <tr style=\"text-align: right;\">\n",
       "      <th></th>\n",
       "      <th>종목명</th>\n",
       "      <th>현재가</th>\n",
       "    </tr>\n",
       "  </thead>\n",
       "  <tbody>\n",
       "    <tr>\n",
       "      <th>037730</th>\n",
       "      <td>3R</td>\n",
       "      <td>1510</td>\n",
       "    </tr>\n",
       "    <tr>\n",
       "      <th>036360</th>\n",
       "      <td>3SOFT</td>\n",
       "      <td>1790</td>\n",
       "    </tr>\n",
       "  </tbody>\n",
       "</table>\n",
       "</div>"
      ],
      "text/plain": [
       "          종목명   현재가\n",
       "037730     3R  1510\n",
       "036360  3SOFT  1790"
      ]
     },
     "execution_count": 35,
     "metadata": {},
     "output_type": "execute_result"
    }
   ],
   "source": [
    "df.loc[['037730','036360'],['종목명','현재가']] #앞쪽은 행 범위 037730부터 036360까지 범위 뒤쪽은 종목명 현재가 까지 범위 영역 가져옴"
   ]
  },
  {
   "cell_type": "code",
   "execution_count": 36,
   "id": "31800a96",
   "metadata": {},
   "outputs": [
    {
     "data": {
      "text/html": [
       "<div>\n",
       "<style scoped>\n",
       "    .dataframe tbody tr th:only-of-type {\n",
       "        vertical-align: middle;\n",
       "    }\n",
       "\n",
       "    .dataframe tbody tr th {\n",
       "        vertical-align: top;\n",
       "    }\n",
       "\n",
       "    .dataframe thead th {\n",
       "        text-align: right;\n",
       "    }\n",
       "</style>\n",
       "<table border=\"1\" class=\"dataframe\">\n",
       "  <thead>\n",
       "    <tr style=\"text-align: right;\">\n",
       "      <th></th>\n",
       "      <th>현재가</th>\n",
       "      <th>등락률</th>\n",
       "    </tr>\n",
       "  </thead>\n",
       "  <tbody>\n",
       "    <tr>\n",
       "      <th>036360</th>\n",
       "      <td>1790</td>\n",
       "      <td>1.65</td>\n",
       "    </tr>\n",
       "    <tr>\n",
       "      <th>005760</th>\n",
       "      <td>1185</td>\n",
       "      <td>1.28</td>\n",
       "    </tr>\n",
       "  </tbody>\n",
       "</table>\n",
       "</div>"
      ],
      "text/plain": [
       "         현재가   등락률\n",
       "036360  1790  1.65\n",
       "005760  1185  1.28"
      ]
     },
     "execution_count": 36,
     "metadata": {},
     "output_type": "execute_result"
    }
   ],
   "source": [
    "df.loc[['036360','005760'],['현재가','등락률']]"
   ]
  },
  {
   "cell_type": "code",
   "execution_count": 42,
   "id": "21d9f052",
   "metadata": {},
   "outputs": [
    {
     "data": {
      "text/html": [
       "<div>\n",
       "<style scoped>\n",
       "    .dataframe tbody tr th:only-of-type {\n",
       "        vertical-align: middle;\n",
       "    }\n",
       "\n",
       "    .dataframe tbody tr th {\n",
       "        vertical-align: top;\n",
       "    }\n",
       "\n",
       "    .dataframe thead th {\n",
       "        text-align: right;\n",
       "    }\n",
       "</style>\n",
       "<table border=\"1\" class=\"dataframe\">\n",
       "  <thead>\n",
       "    <tr style=\"text-align: right;\">\n",
       "      <th></th>\n",
       "      <th>종목명</th>\n",
       "      <th>현재가</th>\n",
       "    </tr>\n",
       "  </thead>\n",
       "  <tbody>\n",
       "    <tr>\n",
       "      <th>037730</th>\n",
       "      <td>3R</td>\n",
       "      <td>1510</td>\n",
       "    </tr>\n",
       "    <tr>\n",
       "      <th>036360</th>\n",
       "      <td>3SOFT</td>\n",
       "      <td>1790</td>\n",
       "    </tr>\n",
       "  </tbody>\n",
       "</table>\n",
       "</div>"
      ],
      "text/plain": [
       "          종목명   현재가\n",
       "037730     3R  1510\n",
       "036360  3SOFT  1790"
      ]
     },
     "execution_count": 42,
     "metadata": {},
     "output_type": "execute_result"
    }
   ],
   "source": [
    "df.loc[[\"037730\",\"036360\"], ['종목명','현재가']]"
   ]
  },
  {
   "cell_type": "code",
   "execution_count": 43,
   "id": "94df4c3b",
   "metadata": {},
   "outputs": [
    {
     "data": {
      "text/html": [
       "<div>\n",
       "<style scoped>\n",
       "    .dataframe tbody tr th:only-of-type {\n",
       "        vertical-align: middle;\n",
       "    }\n",
       "\n",
       "    .dataframe tbody tr th {\n",
       "        vertical-align: top;\n",
       "    }\n",
       "\n",
       "    .dataframe thead th {\n",
       "        text-align: right;\n",
       "    }\n",
       "</style>\n",
       "<table border=\"1\" class=\"dataframe\">\n",
       "  <thead>\n",
       "    <tr style=\"text-align: right;\">\n",
       "      <th></th>\n",
       "      <th>종목명</th>\n",
       "      <th>현재가</th>\n",
       "      <th>등락률</th>\n",
       "    </tr>\n",
       "  </thead>\n",
       "  <tbody>\n",
       "    <tr>\n",
       "      <th>037730</th>\n",
       "      <td>3R</td>\n",
       "      <td>1510</td>\n",
       "      <td>7.36</td>\n",
       "    </tr>\n",
       "    <tr>\n",
       "      <th>036360</th>\n",
       "      <td>3SOFT</td>\n",
       "      <td>1790</td>\n",
       "      <td>1.65</td>\n",
       "    </tr>\n",
       "    <tr>\n",
       "      <th>005760</th>\n",
       "      <td>ACTS</td>\n",
       "      <td>1185</td>\n",
       "      <td>1.28</td>\n",
       "    </tr>\n",
       "  </tbody>\n",
       "</table>\n",
       "</div>"
      ],
      "text/plain": [
       "          종목명   현재가   등락률\n",
       "037730     3R  1510  7.36\n",
       "036360  3SOFT  1790  1.65\n",
       "005760   ACTS  1185  1.28"
      ]
     },
     "execution_count": 43,
     "metadata": {},
     "output_type": "execute_result"
    }
   ],
   "source": [
    "df"
   ]
  },
  {
   "cell_type": "code",
   "execution_count": 47,
   "id": "c429fbe9",
   "metadata": {},
   "outputs": [
    {
     "data": {
      "text/html": [
       "<div>\n",
       "<style scoped>\n",
       "    .dataframe tbody tr th:only-of-type {\n",
       "        vertical-align: middle;\n",
       "    }\n",
       "\n",
       "    .dataframe tbody tr th {\n",
       "        vertical-align: top;\n",
       "    }\n",
       "\n",
       "    .dataframe thead th {\n",
       "        text-align: right;\n",
       "    }\n",
       "</style>\n",
       "<table border=\"1\" class=\"dataframe\">\n",
       "  <thead>\n",
       "    <tr style=\"text-align: right;\">\n",
       "      <th></th>\n",
       "      <th>종목명</th>\n",
       "      <th>등락률</th>\n",
       "    </tr>\n",
       "  </thead>\n",
       "  <tbody>\n",
       "    <tr>\n",
       "      <th>037730</th>\n",
       "      <td>3R</td>\n",
       "      <td>7.36</td>\n",
       "    </tr>\n",
       "    <tr>\n",
       "      <th>036360</th>\n",
       "      <td>3SOFT</td>\n",
       "      <td>1.65</td>\n",
       "    </tr>\n",
       "  </tbody>\n",
       "</table>\n",
       "</div>"
      ],
      "text/plain": [
       "          종목명   등락률\n",
       "037730     3R  7.36\n",
       "036360  3SOFT  1.65"
      ]
     },
     "execution_count": 47,
     "metadata": {},
     "output_type": "execute_result"
    }
   ],
   "source": [
    "df.iloc[[0,1],[0,2]]"
   ]
  },
  {
   "cell_type": "code",
   "execution_count": 48,
   "id": "931e56e0",
   "metadata": {},
   "outputs": [
    {
     "data": {
      "text/html": [
       "<div>\n",
       "<style scoped>\n",
       "    .dataframe tbody tr th:only-of-type {\n",
       "        vertical-align: middle;\n",
       "    }\n",
       "\n",
       "    .dataframe tbody tr th {\n",
       "        vertical-align: top;\n",
       "    }\n",
       "\n",
       "    .dataframe thead th {\n",
       "        text-align: right;\n",
       "    }\n",
       "</style>\n",
       "<table border=\"1\" class=\"dataframe\">\n",
       "  <thead>\n",
       "    <tr style=\"text-align: right;\">\n",
       "      <th></th>\n",
       "      <th>현재가</th>\n",
       "      <th>등락률</th>\n",
       "    </tr>\n",
       "  </thead>\n",
       "  <tbody>\n",
       "    <tr>\n",
       "      <th>036360</th>\n",
       "      <td>1790</td>\n",
       "      <td>1.65</td>\n",
       "    </tr>\n",
       "    <tr>\n",
       "      <th>005760</th>\n",
       "      <td>1185</td>\n",
       "      <td>1.28</td>\n",
       "    </tr>\n",
       "  </tbody>\n",
       "</table>\n",
       "</div>"
      ],
      "text/plain": [
       "         현재가   등락률\n",
       "036360  1790  1.65\n",
       "005760  1185  1.28"
      ]
     },
     "execution_count": 48,
     "metadata": {},
     "output_type": "execute_result"
    }
   ],
   "source": [
    "df.iloc[[1,2],[1,2]]"
   ]
  },
  {
   "cell_type": "code",
   "execution_count": 49,
   "id": "2219840d",
   "metadata": {},
   "outputs": [
    {
     "data": {
      "text/html": [
       "<div>\n",
       "<style scoped>\n",
       "    .dataframe tbody tr th:only-of-type {\n",
       "        vertical-align: middle;\n",
       "    }\n",
       "\n",
       "    .dataframe tbody tr th {\n",
       "        vertical-align: top;\n",
       "    }\n",
       "\n",
       "    .dataframe thead th {\n",
       "        text-align: right;\n",
       "    }\n",
       "</style>\n",
       "<table border=\"1\" class=\"dataframe\">\n",
       "  <thead>\n",
       "    <tr style=\"text-align: right;\">\n",
       "      <th></th>\n",
       "      <th>종목명</th>\n",
       "      <th>등락률</th>\n",
       "    </tr>\n",
       "  </thead>\n",
       "  <tbody>\n",
       "    <tr>\n",
       "      <th>037730</th>\n",
       "      <td>3R</td>\n",
       "      <td>7.36</td>\n",
       "    </tr>\n",
       "    <tr>\n",
       "      <th>036360</th>\n",
       "      <td>3SOFT</td>\n",
       "      <td>1.65</td>\n",
       "    </tr>\n",
       "  </tbody>\n",
       "</table>\n",
       "</div>"
      ],
      "text/plain": [
       "          종목명   등락률\n",
       "037730     3R  7.36\n",
       "036360  3SOFT  1.65"
      ]
     },
     "execution_count": 49,
     "metadata": {},
     "output_type": "execute_result"
    }
   ],
   "source": [
    "df.loc[['037730','036360'],['종목명','등락률']]"
   ]
  },
  {
   "cell_type": "markdown",
   "id": "05e1c461",
   "metadata": {},
   "source": [
    "# 컬럼 추가\n",
    "# df['컬럼명'] = 시리즈 객체\n",
    "# 비트코인 일봉 데이터를 얻어온 후 각 거래일의 변동(range) 컬럼 추가하기"
   ]
  },
  {
   "cell_type": "code",
   "execution_count": 58,
   "id": "d6158ccd",
   "metadata": {},
   "outputs": [
    {
     "data": {
      "text/html": [
       "<div>\n",
       "<style scoped>\n",
       "    .dataframe tbody tr th:only-of-type {\n",
       "        vertical-align: middle;\n",
       "    }\n",
       "\n",
       "    .dataframe tbody tr th {\n",
       "        vertical-align: top;\n",
       "    }\n",
       "\n",
       "    .dataframe thead th {\n",
       "        text-align: right;\n",
       "    }\n",
       "</style>\n",
       "<table border=\"1\" class=\"dataframe\">\n",
       "  <thead>\n",
       "    <tr style=\"text-align: right;\">\n",
       "      <th></th>\n",
       "      <th>open</th>\n",
       "      <th>high</th>\n",
       "      <th>low</th>\n",
       "      <th>close</th>\n",
       "      <th>volume</th>\n",
       "      <th>value</th>\n",
       "      <th>range</th>\n",
       "    </tr>\n",
       "  </thead>\n",
       "  <tbody>\n",
       "    <tr>\n",
       "      <th>2022-05-15 09:00:00</th>\n",
       "      <td>39967000.0</td>\n",
       "      <td>41000000.0</td>\n",
       "      <td>39270000.0</td>\n",
       "      <td>40906000.0</td>\n",
       "      <td>4277.655034</td>\n",
       "      <td>1.706726e+11</td>\n",
       "      <td>1730000.0</td>\n",
       "    </tr>\n",
       "    <tr>\n",
       "      <th>2022-05-16 09:00:00</th>\n",
       "      <td>40902000.0</td>\n",
       "      <td>40940000.0</td>\n",
       "      <td>38620000.0</td>\n",
       "      <td>39256000.0</td>\n",
       "      <td>5678.833853</td>\n",
       "      <td>2.243704e+11</td>\n",
       "      <td>2320000.0</td>\n",
       "    </tr>\n",
       "    <tr>\n",
       "      <th>2022-05-17 09:00:00</th>\n",
       "      <td>39260000.0</td>\n",
       "      <td>39900000.0</td>\n",
       "      <td>38416000.0</td>\n",
       "      <td>39259000.0</td>\n",
       "      <td>5356.753182</td>\n",
       "      <td>2.105359e+11</td>\n",
       "      <td>1484000.0</td>\n",
       "    </tr>\n",
       "    <tr>\n",
       "      <th>2022-05-18 09:00:00</th>\n",
       "      <td>39260000.0</td>\n",
       "      <td>39464000.0</td>\n",
       "      <td>37001000.0</td>\n",
       "      <td>37099000.0</td>\n",
       "      <td>6367.452230</td>\n",
       "      <td>2.430866e+11</td>\n",
       "      <td>2463000.0</td>\n",
       "    </tr>\n",
       "    <tr>\n",
       "      <th>2022-05-19 09:00:00</th>\n",
       "      <td>37100000.0</td>\n",
       "      <td>39085000.0</td>\n",
       "      <td>37000000.0</td>\n",
       "      <td>38780000.0</td>\n",
       "      <td>6407.341868</td>\n",
       "      <td>2.429746e+11</td>\n",
       "      <td>2085000.0</td>\n",
       "    </tr>\n",
       "    <tr>\n",
       "      <th>...</th>\n",
       "      <td>...</td>\n",
       "      <td>...</td>\n",
       "      <td>...</td>\n",
       "      <td>...</td>\n",
       "      <td>...</td>\n",
       "      <td>...</td>\n",
       "      <td>...</td>\n",
       "    </tr>\n",
       "    <tr>\n",
       "      <th>2022-11-26 09:00:00</th>\n",
       "      <td>22677000.0</td>\n",
       "      <td>22862000.0</td>\n",
       "      <td>22605000.0</td>\n",
       "      <td>22660000.0</td>\n",
       "      <td>2148.775806</td>\n",
       "      <td>4.886589e+10</td>\n",
       "      <td>257000.0</td>\n",
       "    </tr>\n",
       "    <tr>\n",
       "      <th>2022-11-27 09:00:00</th>\n",
       "      <td>22646000.0</td>\n",
       "      <td>22774000.0</td>\n",
       "      <td>22605000.0</td>\n",
       "      <td>22646000.0</td>\n",
       "      <td>1989.051138</td>\n",
       "      <td>4.517556e+10</td>\n",
       "      <td>169000.0</td>\n",
       "    </tr>\n",
       "    <tr>\n",
       "      <th>2022-11-28 09:00:00</th>\n",
       "      <td>22661000.0</td>\n",
       "      <td>22690000.0</td>\n",
       "      <td>22217000.0</td>\n",
       "      <td>22339000.0</td>\n",
       "      <td>3579.090571</td>\n",
       "      <td>8.021448e+10</td>\n",
       "      <td>473000.0</td>\n",
       "    </tr>\n",
       "    <tr>\n",
       "      <th>2022-11-29 09:00:00</th>\n",
       "      <td>22329000.0</td>\n",
       "      <td>22617000.0</td>\n",
       "      <td>22155000.0</td>\n",
       "      <td>22417000.0</td>\n",
       "      <td>2523.908210</td>\n",
       "      <td>5.664776e+10</td>\n",
       "      <td>462000.0</td>\n",
       "    </tr>\n",
       "    <tr>\n",
       "      <th>2022-11-30 09:00:00</th>\n",
       "      <td>22417000.0</td>\n",
       "      <td>23113000.0</td>\n",
       "      <td>22415000.0</td>\n",
       "      <td>22886000.0</td>\n",
       "      <td>2813.681195</td>\n",
       "      <td>6.442796e+10</td>\n",
       "      <td>698000.0</td>\n",
       "    </tr>\n",
       "  </tbody>\n",
       "</table>\n",
       "<p>200 rows × 7 columns</p>\n",
       "</div>"
      ],
      "text/plain": [
       "                           open        high         low       close  \\\n",
       "2022-05-15 09:00:00  39967000.0  41000000.0  39270000.0  40906000.0   \n",
       "2022-05-16 09:00:00  40902000.0  40940000.0  38620000.0  39256000.0   \n",
       "2022-05-17 09:00:00  39260000.0  39900000.0  38416000.0  39259000.0   \n",
       "2022-05-18 09:00:00  39260000.0  39464000.0  37001000.0  37099000.0   \n",
       "2022-05-19 09:00:00  37100000.0  39085000.0  37000000.0  38780000.0   \n",
       "...                         ...         ...         ...         ...   \n",
       "2022-11-26 09:00:00  22677000.0  22862000.0  22605000.0  22660000.0   \n",
       "2022-11-27 09:00:00  22646000.0  22774000.0  22605000.0  22646000.0   \n",
       "2022-11-28 09:00:00  22661000.0  22690000.0  22217000.0  22339000.0   \n",
       "2022-11-29 09:00:00  22329000.0  22617000.0  22155000.0  22417000.0   \n",
       "2022-11-30 09:00:00  22417000.0  23113000.0  22415000.0  22886000.0   \n",
       "\n",
       "                          volume         value      range  \n",
       "2022-05-15 09:00:00  4277.655034  1.706726e+11  1730000.0  \n",
       "2022-05-16 09:00:00  5678.833853  2.243704e+11  2320000.0  \n",
       "2022-05-17 09:00:00  5356.753182  2.105359e+11  1484000.0  \n",
       "2022-05-18 09:00:00  6367.452230  2.430866e+11  2463000.0  \n",
       "2022-05-19 09:00:00  6407.341868  2.429746e+11  2085000.0  \n",
       "...                          ...           ...        ...  \n",
       "2022-11-26 09:00:00  2148.775806  4.886589e+10   257000.0  \n",
       "2022-11-27 09:00:00  1989.051138  4.517556e+10   169000.0  \n",
       "2022-11-28 09:00:00  3579.090571  8.021448e+10   473000.0  \n",
       "2022-11-29 09:00:00  2523.908210  5.664776e+10   462000.0  \n",
       "2022-11-30 09:00:00  2813.681195  6.442796e+10   698000.0  \n",
       "\n",
       "[200 rows x 7 columns]"
      ]
     },
     "execution_count": 58,
     "metadata": {},
     "output_type": "execute_result"
    }
   ],
   "source": [
    "import pyupbit\n",
    "#최근 거래일 기준 200일 데이터를 얻어옴\n",
    "df = pyupbit.get_ohlcv(\"KRW-BTC\") #\"KRW-BTC\" 한국 비트코인의 일봉 데이터를 GET해서 df에 넣음 \n",
    "# OHLCV (open, high, low, close, volume)로 당일 시가, 고가, 저가, 종가, 거래량에 대한 데이터를 이야기 합니다. \n",
    "df['range'] = df['high'] - df['low'] #df에 range라는 컬럼 추가(가로 마지막) \n",
    "df"
   ]
  },
  {
   "cell_type": "code",
   "execution_count": 59,
   "id": "33e3cfa9",
   "metadata": {},
   "outputs": [
    {
     "data": {
      "text/html": [
       "<div>\n",
       "<style scoped>\n",
       "    .dataframe tbody tr th:only-of-type {\n",
       "        vertical-align: middle;\n",
       "    }\n",
       "\n",
       "    .dataframe tbody tr th {\n",
       "        vertical-align: top;\n",
       "    }\n",
       "\n",
       "    .dataframe thead th {\n",
       "        text-align: right;\n",
       "    }\n",
       "</style>\n",
       "<table border=\"1\" class=\"dataframe\">\n",
       "  <thead>\n",
       "    <tr style=\"text-align: right;\">\n",
       "      <th></th>\n",
       "      <th>open</th>\n",
       "      <th>high</th>\n",
       "      <th>low</th>\n",
       "      <th>close</th>\n",
       "      <th>volume</th>\n",
       "      <th>value</th>\n",
       "      <th>range</th>\n",
       "    </tr>\n",
       "  </thead>\n",
       "  <tbody>\n",
       "    <tr>\n",
       "      <th>2022-05-15 09:00:00</th>\n",
       "      <td>39967000.0</td>\n",
       "      <td>41000000.0</td>\n",
       "      <td>39270000.0</td>\n",
       "      <td>40906000.0</td>\n",
       "      <td>4277.655034</td>\n",
       "      <td>1.706726e+11</td>\n",
       "      <td>1730000.0</td>\n",
       "    </tr>\n",
       "    <tr>\n",
       "      <th>2022-05-16 09:00:00</th>\n",
       "      <td>40902000.0</td>\n",
       "      <td>40940000.0</td>\n",
       "      <td>38620000.0</td>\n",
       "      <td>39256000.0</td>\n",
       "      <td>5678.833853</td>\n",
       "      <td>2.243704e+11</td>\n",
       "      <td>2320000.0</td>\n",
       "    </tr>\n",
       "    <tr>\n",
       "      <th>2022-05-17 09:00:00</th>\n",
       "      <td>39260000.0</td>\n",
       "      <td>39900000.0</td>\n",
       "      <td>38416000.0</td>\n",
       "      <td>39259000.0</td>\n",
       "      <td>5356.753182</td>\n",
       "      <td>2.105359e+11</td>\n",
       "      <td>1484000.0</td>\n",
       "    </tr>\n",
       "    <tr>\n",
       "      <th>2022-05-18 09:00:00</th>\n",
       "      <td>39260000.0</td>\n",
       "      <td>39464000.0</td>\n",
       "      <td>37001000.0</td>\n",
       "      <td>37099000.0</td>\n",
       "      <td>6367.452230</td>\n",
       "      <td>2.430866e+11</td>\n",
       "      <td>2463000.0</td>\n",
       "    </tr>\n",
       "    <tr>\n",
       "      <th>2022-05-19 09:00:00</th>\n",
       "      <td>37100000.0</td>\n",
       "      <td>39085000.0</td>\n",
       "      <td>37000000.0</td>\n",
       "      <td>38780000.0</td>\n",
       "      <td>6407.341868</td>\n",
       "      <td>2.429746e+11</td>\n",
       "      <td>2085000.0</td>\n",
       "    </tr>\n",
       "  </tbody>\n",
       "</table>\n",
       "</div>"
      ],
      "text/plain": [
       "                           open        high         low       close  \\\n",
       "2022-05-15 09:00:00  39967000.0  41000000.0  39270000.0  40906000.0   \n",
       "2022-05-16 09:00:00  40902000.0  40940000.0  38620000.0  39256000.0   \n",
       "2022-05-17 09:00:00  39260000.0  39900000.0  38416000.0  39259000.0   \n",
       "2022-05-18 09:00:00  39260000.0  39464000.0  37001000.0  37099000.0   \n",
       "2022-05-19 09:00:00  37100000.0  39085000.0  37000000.0  38780000.0   \n",
       "\n",
       "                          volume         value      range  \n",
       "2022-05-15 09:00:00  4277.655034  1.706726e+11  1730000.0  \n",
       "2022-05-16 09:00:00  5678.833853  2.243704e+11  2320000.0  \n",
       "2022-05-17 09:00:00  5356.753182  2.105359e+11  1484000.0  \n",
       "2022-05-18 09:00:00  6367.452230  2.430866e+11  2463000.0  \n",
       "2022-05-19 09:00:00  6407.341868  2.429746e+11  2085000.0  "
      ]
     },
     "execution_count": 59,
     "metadata": {},
     "output_type": "execute_result"
    }
   ],
   "source": [
    "df.head() #앞에 5개만 보고 싶으면 "
   ]
  },
  {
   "cell_type": "markdown",
   "id": "68a74ef3",
   "metadata": {},
   "source": [
    "# 컬럼 삭제\n",
    "# df.drop('컬럼명',axis=1)\n",
    "# 원본은 그대로 유지되고 컬럼이 삭제된 새로운 데이터프레임 객체가 리턴됨"
   ]
  },
  {
   "cell_type": "code",
   "execution_count": 63,
   "id": "df5ef72f",
   "metadata": {},
   "outputs": [
    {
     "data": {
      "text/html": [
       "<div>\n",
       "<style scoped>\n",
       "    .dataframe tbody tr th:only-of-type {\n",
       "        vertical-align: middle;\n",
       "    }\n",
       "\n",
       "    .dataframe tbody tr th {\n",
       "        vertical-align: top;\n",
       "    }\n",
       "\n",
       "    .dataframe thead th {\n",
       "        text-align: right;\n",
       "    }\n",
       "</style>\n",
       "<table border=\"1\" class=\"dataframe\">\n",
       "  <thead>\n",
       "    <tr style=\"text-align: right;\">\n",
       "      <th></th>\n",
       "      <th>open</th>\n",
       "      <th>high</th>\n",
       "      <th>low</th>\n",
       "      <th>close</th>\n",
       "      <th>volume</th>\n",
       "      <th>value</th>\n",
       "    </tr>\n",
       "  </thead>\n",
       "  <tbody>\n",
       "    <tr>\n",
       "      <th>2022-05-16 09:00:00</th>\n",
       "      <td>40902000.0</td>\n",
       "      <td>40940000.0</td>\n",
       "      <td>38620000.0</td>\n",
       "      <td>39256000.0</td>\n",
       "      <td>5678.833853</td>\n",
       "      <td>2.243704e+11</td>\n",
       "    </tr>\n",
       "    <tr>\n",
       "      <th>2022-05-17 09:00:00</th>\n",
       "      <td>39260000.0</td>\n",
       "      <td>39900000.0</td>\n",
       "      <td>38416000.0</td>\n",
       "      <td>39259000.0</td>\n",
       "      <td>5356.753182</td>\n",
       "      <td>2.105359e+11</td>\n",
       "    </tr>\n",
       "    <tr>\n",
       "      <th>2022-05-18 09:00:00</th>\n",
       "      <td>39260000.0</td>\n",
       "      <td>39464000.0</td>\n",
       "      <td>37001000.0</td>\n",
       "      <td>37099000.0</td>\n",
       "      <td>6367.452230</td>\n",
       "      <td>2.430866e+11</td>\n",
       "    </tr>\n",
       "    <tr>\n",
       "      <th>2022-05-19 09:00:00</th>\n",
       "      <td>37100000.0</td>\n",
       "      <td>39085000.0</td>\n",
       "      <td>37000000.0</td>\n",
       "      <td>38780000.0</td>\n",
       "      <td>6407.341868</td>\n",
       "      <td>2.429746e+11</td>\n",
       "    </tr>\n",
       "    <tr>\n",
       "      <th>2022-05-20 09:00:00</th>\n",
       "      <td>38781000.0</td>\n",
       "      <td>39298000.0</td>\n",
       "      <td>37267000.0</td>\n",
       "      <td>37762000.0</td>\n",
       "      <td>5865.610376</td>\n",
       "      <td>2.252696e+11</td>\n",
       "    </tr>\n",
       "    <tr>\n",
       "      <th>...</th>\n",
       "      <td>...</td>\n",
       "      <td>...</td>\n",
       "      <td>...</td>\n",
       "      <td>...</td>\n",
       "      <td>...</td>\n",
       "      <td>...</td>\n",
       "    </tr>\n",
       "    <tr>\n",
       "      <th>2022-11-26 09:00:00</th>\n",
       "      <td>22677000.0</td>\n",
       "      <td>22862000.0</td>\n",
       "      <td>22605000.0</td>\n",
       "      <td>22660000.0</td>\n",
       "      <td>2148.775806</td>\n",
       "      <td>4.886589e+10</td>\n",
       "    </tr>\n",
       "    <tr>\n",
       "      <th>2022-11-27 09:00:00</th>\n",
       "      <td>22646000.0</td>\n",
       "      <td>22774000.0</td>\n",
       "      <td>22605000.0</td>\n",
       "      <td>22646000.0</td>\n",
       "      <td>1989.051138</td>\n",
       "      <td>4.517556e+10</td>\n",
       "    </tr>\n",
       "    <tr>\n",
       "      <th>2022-11-28 09:00:00</th>\n",
       "      <td>22661000.0</td>\n",
       "      <td>22690000.0</td>\n",
       "      <td>22217000.0</td>\n",
       "      <td>22339000.0</td>\n",
       "      <td>3579.090571</td>\n",
       "      <td>8.021448e+10</td>\n",
       "    </tr>\n",
       "    <tr>\n",
       "      <th>2022-11-29 09:00:00</th>\n",
       "      <td>22329000.0</td>\n",
       "      <td>22617000.0</td>\n",
       "      <td>22155000.0</td>\n",
       "      <td>22417000.0</td>\n",
       "      <td>2523.908210</td>\n",
       "      <td>5.664776e+10</td>\n",
       "    </tr>\n",
       "    <tr>\n",
       "      <th>2022-11-30 09:00:00</th>\n",
       "      <td>22417000.0</td>\n",
       "      <td>23113000.0</td>\n",
       "      <td>22415000.0</td>\n",
       "      <td>22882000.0</td>\n",
       "      <td>2817.849159</td>\n",
       "      <td>6.452335e+10</td>\n",
       "    </tr>\n",
       "  </tbody>\n",
       "</table>\n",
       "<p>199 rows × 6 columns</p>\n",
       "</div>"
      ],
      "text/plain": [
       "                           open        high         low       close  \\\n",
       "2022-05-16 09:00:00  40902000.0  40940000.0  38620000.0  39256000.0   \n",
       "2022-05-17 09:00:00  39260000.0  39900000.0  38416000.0  39259000.0   \n",
       "2022-05-18 09:00:00  39260000.0  39464000.0  37001000.0  37099000.0   \n",
       "2022-05-19 09:00:00  37100000.0  39085000.0  37000000.0  38780000.0   \n",
       "2022-05-20 09:00:00  38781000.0  39298000.0  37267000.0  37762000.0   \n",
       "...                         ...         ...         ...         ...   \n",
       "2022-11-26 09:00:00  22677000.0  22862000.0  22605000.0  22660000.0   \n",
       "2022-11-27 09:00:00  22646000.0  22774000.0  22605000.0  22646000.0   \n",
       "2022-11-28 09:00:00  22661000.0  22690000.0  22217000.0  22339000.0   \n",
       "2022-11-29 09:00:00  22329000.0  22617000.0  22155000.0  22417000.0   \n",
       "2022-11-30 09:00:00  22417000.0  23113000.0  22415000.0  22882000.0   \n",
       "\n",
       "                          volume         value  \n",
       "2022-05-16 09:00:00  5678.833853  2.243704e+11  \n",
       "2022-05-17 09:00:00  5356.753182  2.105359e+11  \n",
       "2022-05-18 09:00:00  6367.452230  2.430866e+11  \n",
       "2022-05-19 09:00:00  6407.341868  2.429746e+11  \n",
       "2022-05-20 09:00:00  5865.610376  2.252696e+11  \n",
       "...                          ...           ...  \n",
       "2022-11-26 09:00:00  2148.775806  4.886589e+10  \n",
       "2022-11-27 09:00:00  1989.051138  4.517556e+10  \n",
       "2022-11-28 09:00:00  3579.090571  8.021448e+10  \n",
       "2022-11-29 09:00:00  2523.908210  5.664776e+10  \n",
       "2022-11-30 09:00:00  2817.849159  6.452335e+10  \n",
       "\n",
       "[199 rows x 6 columns]"
      ]
     },
     "execution_count": 63,
     "metadata": {},
     "output_type": "execute_result"
    }
   ],
   "source": [
    "df = pyupbit.get_ohlcv(\"KRW-BTC\")\n",
    "\n",
    "df2 = df.drop('volume',axis=1) #axis 0은 low axis 1은 컬럼 \n",
    "df2\n",
    "df3 = df.drop('2022-05-15 09:00:00',axis=0)\n",
    "df3\n",
    "#df.drop('volume',axis=1,inplace=True) 원본도 삭제함"
   ]
  },
  {
   "cell_type": "markdown",
   "id": "ac5cc08d",
   "metadata": {},
   "source": [
    "# 시계열 데이터와 인덱스\n",
    "# 시계열 데이터는 인덱스가 날짜와 시간으로 구성됨\n",
    "# 문자열로 표현된 날짜와 시간을 Datetimeindex 타입으로 변환해서 사용해야 함\n",
    "# pd.to_datetime(date)\n"
   ]
  },
  {
   "cell_type": "code",
   "execution_count": 67,
   "id": "8945dd9c",
   "metadata": {},
   "outputs": [
    {
     "name": "stdout",
     "output_type": "stream",
     "text": [
      "2022-10-04 00:00:00\n",
      "DatetimeIndex(['2022-10-04', '2022-10-05'], dtype='datetime64[ns]', freq=None)\n"
     ]
    },
    {
     "data": {
      "text/plain": [
       "Timestamp('2022-10-04 00:00:00')"
      ]
     },
     "execution_count": 67,
     "metadata": {},
     "output_type": "execute_result"
    }
   ],
   "source": [
    "import pandas as pd\n",
    "\n",
    "date = \"2022-10-04\"\n",
    "date1 = [\"2022-10-04\",\"2022-10-05\"]\n",
    "dt = pd.to_datetime(date)\n",
    "dt1 = pd.to_datetime(date1)\n",
    "print(dt) #단일이면 타임스탬프\n",
    "print(dt1) #리스트면 데이트타임인덱스\n",
    "dt1[0] #하나 불러오면 타임스탬프 "
   ]
  },
  {
   "cell_type": "markdown",
   "id": "80cb7baf",
   "metadata": {},
   "source": [
    "# 로우 추가\n",
    "# df.loc[인덱스]=데이터"
   ]
  },
  {
   "cell_type": "code",
   "execution_count": 75,
   "id": "bffa9b7c",
   "metadata": {},
   "outputs": [
    {
     "data": {
      "text/html": [
       "<div>\n",
       "<style scoped>\n",
       "    .dataframe tbody tr th:only-of-type {\n",
       "        vertical-align: middle;\n",
       "    }\n",
       "\n",
       "    .dataframe tbody tr th {\n",
       "        vertical-align: top;\n",
       "    }\n",
       "\n",
       "    .dataframe thead th {\n",
       "        text-align: right;\n",
       "    }\n",
       "</style>\n",
       "<table border=\"1\" class=\"dataframe\">\n",
       "  <thead>\n",
       "    <tr style=\"text-align: right;\">\n",
       "      <th></th>\n",
       "      <th>open</th>\n",
       "      <th>high</th>\n",
       "      <th>low</th>\n",
       "      <th>close</th>\n",
       "      <th>value</th>\n",
       "    </tr>\n",
       "  </thead>\n",
       "  <tbody>\n",
       "    <tr>\n",
       "      <th>2022-05-15 09:00:00</th>\n",
       "      <td>39967000.0</td>\n",
       "      <td>41000000.0</td>\n",
       "      <td>39270000.0</td>\n",
       "      <td>40906000.0</td>\n",
       "      <td>1.706726e+11</td>\n",
       "    </tr>\n",
       "    <tr>\n",
       "      <th>2022-05-16 09:00:00</th>\n",
       "      <td>40902000.0</td>\n",
       "      <td>40940000.0</td>\n",
       "      <td>38620000.0</td>\n",
       "      <td>39256000.0</td>\n",
       "      <td>2.243704e+11</td>\n",
       "    </tr>\n",
       "    <tr>\n",
       "      <th>2022-05-17 09:00:00</th>\n",
       "      <td>39260000.0</td>\n",
       "      <td>39900000.0</td>\n",
       "      <td>38416000.0</td>\n",
       "      <td>39259000.0</td>\n",
       "      <td>2.105359e+11</td>\n",
       "    </tr>\n",
       "    <tr>\n",
       "      <th>2022-05-18 09:00:00</th>\n",
       "      <td>39260000.0</td>\n",
       "      <td>39464000.0</td>\n",
       "      <td>37001000.0</td>\n",
       "      <td>37099000.0</td>\n",
       "      <td>2.430866e+11</td>\n",
       "    </tr>\n",
       "    <tr>\n",
       "      <th>2022-05-19 09:00:00</th>\n",
       "      <td>37100000.0</td>\n",
       "      <td>39085000.0</td>\n",
       "      <td>37000000.0</td>\n",
       "      <td>38780000.0</td>\n",
       "      <td>2.429746e+11</td>\n",
       "    </tr>\n",
       "    <tr>\n",
       "      <th>...</th>\n",
       "      <td>...</td>\n",
       "      <td>...</td>\n",
       "      <td>...</td>\n",
       "      <td>...</td>\n",
       "      <td>...</td>\n",
       "    </tr>\n",
       "    <tr>\n",
       "      <th>2022-11-26 09:00:00</th>\n",
       "      <td>22677000.0</td>\n",
       "      <td>22862000.0</td>\n",
       "      <td>22605000.0</td>\n",
       "      <td>22660000.0</td>\n",
       "      <td>4.886589e+10</td>\n",
       "    </tr>\n",
       "    <tr>\n",
       "      <th>2022-11-27 09:00:00</th>\n",
       "      <td>22646000.0</td>\n",
       "      <td>22774000.0</td>\n",
       "      <td>22605000.0</td>\n",
       "      <td>22646000.0</td>\n",
       "      <td>4.517556e+10</td>\n",
       "    </tr>\n",
       "    <tr>\n",
       "      <th>2022-11-28 09:00:00</th>\n",
       "      <td>22661000.0</td>\n",
       "      <td>22690000.0</td>\n",
       "      <td>22217000.0</td>\n",
       "      <td>22339000.0</td>\n",
       "      <td>8.021448e+10</td>\n",
       "    </tr>\n",
       "    <tr>\n",
       "      <th>2022-11-29 09:00:00</th>\n",
       "      <td>22329000.0</td>\n",
       "      <td>22617000.0</td>\n",
       "      <td>22155000.0</td>\n",
       "      <td>22417000.0</td>\n",
       "      <td>5.664776e+10</td>\n",
       "    </tr>\n",
       "    <tr>\n",
       "      <th>2022-11-30 09:00:00</th>\n",
       "      <td>22417000.0</td>\n",
       "      <td>23113000.0</td>\n",
       "      <td>22415000.0</td>\n",
       "      <td>22819000.0</td>\n",
       "      <td>6.504435e+10</td>\n",
       "    </tr>\n",
       "  </tbody>\n",
       "</table>\n",
       "<p>200 rows × 5 columns</p>\n",
       "</div>"
      ],
      "text/plain": [
       "                           open        high         low       close  \\\n",
       "2022-05-15 09:00:00  39967000.0  41000000.0  39270000.0  40906000.0   \n",
       "2022-05-16 09:00:00  40902000.0  40940000.0  38620000.0  39256000.0   \n",
       "2022-05-17 09:00:00  39260000.0  39900000.0  38416000.0  39259000.0   \n",
       "2022-05-18 09:00:00  39260000.0  39464000.0  37001000.0  37099000.0   \n",
       "2022-05-19 09:00:00  37100000.0  39085000.0  37000000.0  38780000.0   \n",
       "...                         ...         ...         ...         ...   \n",
       "2022-11-26 09:00:00  22677000.0  22862000.0  22605000.0  22660000.0   \n",
       "2022-11-27 09:00:00  22646000.0  22774000.0  22605000.0  22646000.0   \n",
       "2022-11-28 09:00:00  22661000.0  22690000.0  22217000.0  22339000.0   \n",
       "2022-11-29 09:00:00  22329000.0  22617000.0  22155000.0  22417000.0   \n",
       "2022-11-30 09:00:00  22417000.0  23113000.0  22415000.0  22819000.0   \n",
       "\n",
       "                            value  \n",
       "2022-05-15 09:00:00  1.706726e+11  \n",
       "2022-05-16 09:00:00  2.243704e+11  \n",
       "2022-05-17 09:00:00  2.105359e+11  \n",
       "2022-05-18 09:00:00  2.430866e+11  \n",
       "2022-05-19 09:00:00  2.429746e+11  \n",
       "...                           ...  \n",
       "2022-11-26 09:00:00  4.886589e+10  \n",
       "2022-11-27 09:00:00  4.517556e+10  \n",
       "2022-11-28 09:00:00  8.021448e+10  \n",
       "2022-11-29 09:00:00  5.664776e+10  \n",
       "2022-11-30 09:00:00  6.504435e+10  \n",
       "\n",
       "[200 rows x 5 columns]"
      ]
     },
     "execution_count": 75,
     "metadata": {},
     "output_type": "execute_result"
    }
   ],
   "source": [
    "df = pyupbit.get_ohlcv(\"KRW-BTC\")\n",
    "df['range'] = df['high'] - df['low']\n",
    "df\n",
    "df.drop(['range','volume'], axis=1, inplace=True)\n",
    "df\n"
   ]
  },
  {
   "cell_type": "code",
   "execution_count": 80,
   "id": "095ba6bc",
   "metadata": {},
   "outputs": [
    {
     "data": {
      "text/plain": [
       "Timestamp('2022-12-01 09:00:00')"
      ]
     },
     "execution_count": 80,
     "metadata": {},
     "output_type": "execute_result"
    }
   ],
   "source": [
    "# df 조회 결과 가장 마지막 날 20221130 다음날인 1201을 만들어보자\n",
    "date = \"2022-12-01 09:00:00\" #날짜를 타임스탬프 형식으로 써서 date에 집어넣음\n",
    "dt = pd.to_datetime(date) #date를 시계열데이터로 바꿔줌 (pd.to_datetime)\n",
    "dt"
   ]
  },
  {
   "cell_type": "code",
   "execution_count": 81,
   "id": "98a1e7f0",
   "metadata": {},
   "outputs": [
    {
     "data": {
      "text/html": [
       "<div>\n",
       "<style scoped>\n",
       "    .dataframe tbody tr th:only-of-type {\n",
       "        vertical-align: middle;\n",
       "    }\n",
       "\n",
       "    .dataframe tbody tr th {\n",
       "        vertical-align: top;\n",
       "    }\n",
       "\n",
       "    .dataframe thead th {\n",
       "        text-align: right;\n",
       "    }\n",
       "</style>\n",
       "<table border=\"1\" class=\"dataframe\">\n",
       "  <thead>\n",
       "    <tr style=\"text-align: right;\">\n",
       "      <th></th>\n",
       "      <th>open</th>\n",
       "      <th>high</th>\n",
       "      <th>low</th>\n",
       "      <th>close</th>\n",
       "      <th>value</th>\n",
       "    </tr>\n",
       "  </thead>\n",
       "  <tbody>\n",
       "    <tr>\n",
       "      <th>2022-05-15 09:00:00</th>\n",
       "      <td>39967000.0</td>\n",
       "      <td>41000000.0</td>\n",
       "      <td>39270000.0</td>\n",
       "      <td>40906000.0</td>\n",
       "      <td>1.706726e+11</td>\n",
       "    </tr>\n",
       "    <tr>\n",
       "      <th>2022-05-16 09:00:00</th>\n",
       "      <td>40902000.0</td>\n",
       "      <td>40940000.0</td>\n",
       "      <td>38620000.0</td>\n",
       "      <td>39256000.0</td>\n",
       "      <td>2.243704e+11</td>\n",
       "    </tr>\n",
       "    <tr>\n",
       "      <th>2022-05-17 09:00:00</th>\n",
       "      <td>39260000.0</td>\n",
       "      <td>39900000.0</td>\n",
       "      <td>38416000.0</td>\n",
       "      <td>39259000.0</td>\n",
       "      <td>2.105359e+11</td>\n",
       "    </tr>\n",
       "    <tr>\n",
       "      <th>2022-05-18 09:00:00</th>\n",
       "      <td>39260000.0</td>\n",
       "      <td>39464000.0</td>\n",
       "      <td>37001000.0</td>\n",
       "      <td>37099000.0</td>\n",
       "      <td>2.430866e+11</td>\n",
       "    </tr>\n",
       "    <tr>\n",
       "      <th>2022-05-19 09:00:00</th>\n",
       "      <td>37100000.0</td>\n",
       "      <td>39085000.0</td>\n",
       "      <td>37000000.0</td>\n",
       "      <td>38780000.0</td>\n",
       "      <td>2.429746e+11</td>\n",
       "    </tr>\n",
       "    <tr>\n",
       "      <th>...</th>\n",
       "      <td>...</td>\n",
       "      <td>...</td>\n",
       "      <td>...</td>\n",
       "      <td>...</td>\n",
       "      <td>...</td>\n",
       "    </tr>\n",
       "    <tr>\n",
       "      <th>2022-11-27 09:00:00</th>\n",
       "      <td>22646000.0</td>\n",
       "      <td>22774000.0</td>\n",
       "      <td>22605000.0</td>\n",
       "      <td>22646000.0</td>\n",
       "      <td>4.517556e+10</td>\n",
       "    </tr>\n",
       "    <tr>\n",
       "      <th>2022-11-28 09:00:00</th>\n",
       "      <td>22661000.0</td>\n",
       "      <td>22690000.0</td>\n",
       "      <td>22217000.0</td>\n",
       "      <td>22339000.0</td>\n",
       "      <td>8.021448e+10</td>\n",
       "    </tr>\n",
       "    <tr>\n",
       "      <th>2022-11-29 09:00:00</th>\n",
       "      <td>22329000.0</td>\n",
       "      <td>22617000.0</td>\n",
       "      <td>22155000.0</td>\n",
       "      <td>22417000.0</td>\n",
       "      <td>5.664776e+10</td>\n",
       "    </tr>\n",
       "    <tr>\n",
       "      <th>2022-11-30 09:00:00</th>\n",
       "      <td>22417000.0</td>\n",
       "      <td>23113000.0</td>\n",
       "      <td>22415000.0</td>\n",
       "      <td>22819000.0</td>\n",
       "      <td>6.504435e+10</td>\n",
       "    </tr>\n",
       "    <tr>\n",
       "      <th>2022-12-01 09:00:00</th>\n",
       "      <td>100.0</td>\n",
       "      <td>110.0</td>\n",
       "      <td>120.0</td>\n",
       "      <td>130.0</td>\n",
       "      <td>1.500000e+02</td>\n",
       "    </tr>\n",
       "  </tbody>\n",
       "</table>\n",
       "<p>201 rows × 5 columns</p>\n",
       "</div>"
      ],
      "text/plain": [
       "                           open        high         low       close  \\\n",
       "2022-05-15 09:00:00  39967000.0  41000000.0  39270000.0  40906000.0   \n",
       "2022-05-16 09:00:00  40902000.0  40940000.0  38620000.0  39256000.0   \n",
       "2022-05-17 09:00:00  39260000.0  39900000.0  38416000.0  39259000.0   \n",
       "2022-05-18 09:00:00  39260000.0  39464000.0  37001000.0  37099000.0   \n",
       "2022-05-19 09:00:00  37100000.0  39085000.0  37000000.0  38780000.0   \n",
       "...                         ...         ...         ...         ...   \n",
       "2022-11-27 09:00:00  22646000.0  22774000.0  22605000.0  22646000.0   \n",
       "2022-11-28 09:00:00  22661000.0  22690000.0  22217000.0  22339000.0   \n",
       "2022-11-29 09:00:00  22329000.0  22617000.0  22155000.0  22417000.0   \n",
       "2022-11-30 09:00:00  22417000.0  23113000.0  22415000.0  22819000.0   \n",
       "2022-12-01 09:00:00       100.0       110.0       120.0       130.0   \n",
       "\n",
       "                            value  \n",
       "2022-05-15 09:00:00  1.706726e+11  \n",
       "2022-05-16 09:00:00  2.243704e+11  \n",
       "2022-05-17 09:00:00  2.105359e+11  \n",
       "2022-05-18 09:00:00  2.430866e+11  \n",
       "2022-05-19 09:00:00  2.429746e+11  \n",
       "...                           ...  \n",
       "2022-11-27 09:00:00  4.517556e+10  \n",
       "2022-11-28 09:00:00  8.021448e+10  \n",
       "2022-11-29 09:00:00  5.664776e+10  \n",
       "2022-11-30 09:00:00  6.504435e+10  \n",
       "2022-12-01 09:00:00  1.500000e+02  \n",
       "\n",
       "[201 rows x 5 columns]"
      ]
     },
     "execution_count": 81,
     "metadata": {},
     "output_type": "execute_result"
    }
   ],
   "source": [
    "# 2022-12-01은 만들어졌다 다음은 빈 데이터를 채워보자\n",
    "df.loc[dt]=[100,110,120,130,150] #dt에 100 110 120 130 150을 채워서 df에 넣는다 \n",
    "df # 마지막날인 11-30 다음 12-01이 만들어졌고 입력한 데이터도 잘 출력 된다."
   ]
  },
  {
   "cell_type": "markdown",
   "id": "eddb6988",
   "metadata": {},
   "source": [
    "# 로우 삭제\n",
    "# df.drop(로우 인덱스, axis = 0) 원본은 그대로 유지되고 row가 삭제된 데이터프렝미 객체가 리턴됨\n",
    "# df.drop(로우 인덱스, axis = 0 replace=True) #완전삭제"
   ]
  },
  {
   "cell_type": "code",
   "execution_count": 82,
   "id": "6d5a08e8",
   "metadata": {},
   "outputs": [
    {
     "data": {
      "text/html": [
       "<div>\n",
       "<style scoped>\n",
       "    .dataframe tbody tr th:only-of-type {\n",
       "        vertical-align: middle;\n",
       "    }\n",
       "\n",
       "    .dataframe tbody tr th {\n",
       "        vertical-align: top;\n",
       "    }\n",
       "\n",
       "    .dataframe thead th {\n",
       "        text-align: right;\n",
       "    }\n",
       "</style>\n",
       "<table border=\"1\" class=\"dataframe\">\n",
       "  <thead>\n",
       "    <tr style=\"text-align: right;\">\n",
       "      <th></th>\n",
       "      <th>open</th>\n",
       "      <th>high</th>\n",
       "      <th>low</th>\n",
       "      <th>close</th>\n",
       "      <th>value</th>\n",
       "    </tr>\n",
       "  </thead>\n",
       "  <tbody>\n",
       "    <tr>\n",
       "      <th>2022-11-27 09:00:00</th>\n",
       "      <td>22646000.0</td>\n",
       "      <td>22774000.0</td>\n",
       "      <td>22605000.0</td>\n",
       "      <td>22646000.0</td>\n",
       "      <td>4.517556e+10</td>\n",
       "    </tr>\n",
       "    <tr>\n",
       "      <th>2022-11-28 09:00:00</th>\n",
       "      <td>22661000.0</td>\n",
       "      <td>22690000.0</td>\n",
       "      <td>22217000.0</td>\n",
       "      <td>22339000.0</td>\n",
       "      <td>8.021448e+10</td>\n",
       "    </tr>\n",
       "    <tr>\n",
       "      <th>2022-11-29 09:00:00</th>\n",
       "      <td>22329000.0</td>\n",
       "      <td>22617000.0</td>\n",
       "      <td>22155000.0</td>\n",
       "      <td>22417000.0</td>\n",
       "      <td>5.664776e+10</td>\n",
       "    </tr>\n",
       "    <tr>\n",
       "      <th>2022-11-30 09:00:00</th>\n",
       "      <td>22417000.0</td>\n",
       "      <td>23113000.0</td>\n",
       "      <td>22415000.0</td>\n",
       "      <td>22819000.0</td>\n",
       "      <td>6.504435e+10</td>\n",
       "    </tr>\n",
       "    <tr>\n",
       "      <th>2022-12-01 09:00:00</th>\n",
       "      <td>100.0</td>\n",
       "      <td>110.0</td>\n",
       "      <td>120.0</td>\n",
       "      <td>130.0</td>\n",
       "      <td>1.500000e+02</td>\n",
       "    </tr>\n",
       "  </tbody>\n",
       "</table>\n",
       "</div>"
      ],
      "text/plain": [
       "                           open        high         low       close  \\\n",
       "2022-11-27 09:00:00  22646000.0  22774000.0  22605000.0  22646000.0   \n",
       "2022-11-28 09:00:00  22661000.0  22690000.0  22217000.0  22339000.0   \n",
       "2022-11-29 09:00:00  22329000.0  22617000.0  22155000.0  22417000.0   \n",
       "2022-11-30 09:00:00  22417000.0  23113000.0  22415000.0  22819000.0   \n",
       "2022-12-01 09:00:00       100.0       110.0       120.0       130.0   \n",
       "\n",
       "                            value  \n",
       "2022-11-27 09:00:00  4.517556e+10  \n",
       "2022-11-28 09:00:00  8.021448e+10  \n",
       "2022-11-29 09:00:00  5.664776e+10  \n",
       "2022-11-30 09:00:00  6.504435e+10  \n",
       "2022-12-01 09:00:00  1.500000e+02  "
      ]
     },
     "execution_count": 82,
     "metadata": {},
     "output_type": "execute_result"
    }
   ],
   "source": [
    "df.tail() # 가장 최근 날짜 5개 "
   ]
  },
  {
   "cell_type": "code",
   "execution_count": 83,
   "id": "676f2e18",
   "metadata": {},
   "outputs": [
    {
     "data": {
      "text/plain": [
       "Timestamp('2022-12-01 09:00:00')"
      ]
     },
     "execution_count": 83,
     "metadata": {},
     "output_type": "execute_result"
    }
   ],
   "source": [
    "df.index[-1] # 지울값은 마지막에 있다 "
   ]
  },
  {
   "cell_type": "code",
   "execution_count": 87,
   "id": "f8f7660e",
   "metadata": {},
   "outputs": [],
   "source": [
    "df.drop(df.index[-1],axis = 0,inplace = True)"
   ]
  },
  {
   "cell_type": "code",
   "execution_count": 88,
   "id": "b83f0f48",
   "metadata": {},
   "outputs": [
    {
     "data": {
      "text/html": [
       "<div>\n",
       "<style scoped>\n",
       "    .dataframe tbody tr th:only-of-type {\n",
       "        vertical-align: middle;\n",
       "    }\n",
       "\n",
       "    .dataframe tbody tr th {\n",
       "        vertical-align: top;\n",
       "    }\n",
       "\n",
       "    .dataframe thead th {\n",
       "        text-align: right;\n",
       "    }\n",
       "</style>\n",
       "<table border=\"1\" class=\"dataframe\">\n",
       "  <thead>\n",
       "    <tr style=\"text-align: right;\">\n",
       "      <th></th>\n",
       "      <th>open</th>\n",
       "      <th>high</th>\n",
       "      <th>low</th>\n",
       "      <th>close</th>\n",
       "      <th>value</th>\n",
       "    </tr>\n",
       "  </thead>\n",
       "  <tbody>\n",
       "    <tr>\n",
       "      <th>2022-05-15 09:00:00</th>\n",
       "      <td>39967000.0</td>\n",
       "      <td>41000000.0</td>\n",
       "      <td>39270000.0</td>\n",
       "      <td>40906000.0</td>\n",
       "      <td>1.706726e+11</td>\n",
       "    </tr>\n",
       "    <tr>\n",
       "      <th>2022-05-16 09:00:00</th>\n",
       "      <td>40902000.0</td>\n",
       "      <td>40940000.0</td>\n",
       "      <td>38620000.0</td>\n",
       "      <td>39256000.0</td>\n",
       "      <td>2.243704e+11</td>\n",
       "    </tr>\n",
       "    <tr>\n",
       "      <th>2022-05-17 09:00:00</th>\n",
       "      <td>39260000.0</td>\n",
       "      <td>39900000.0</td>\n",
       "      <td>38416000.0</td>\n",
       "      <td>39259000.0</td>\n",
       "      <td>2.105359e+11</td>\n",
       "    </tr>\n",
       "    <tr>\n",
       "      <th>2022-05-18 09:00:00</th>\n",
       "      <td>39260000.0</td>\n",
       "      <td>39464000.0</td>\n",
       "      <td>37001000.0</td>\n",
       "      <td>37099000.0</td>\n",
       "      <td>2.430866e+11</td>\n",
       "    </tr>\n",
       "    <tr>\n",
       "      <th>2022-05-19 09:00:00</th>\n",
       "      <td>37100000.0</td>\n",
       "      <td>39085000.0</td>\n",
       "      <td>37000000.0</td>\n",
       "      <td>38780000.0</td>\n",
       "      <td>2.429746e+11</td>\n",
       "    </tr>\n",
       "    <tr>\n",
       "      <th>...</th>\n",
       "      <td>...</td>\n",
       "      <td>...</td>\n",
       "      <td>...</td>\n",
       "      <td>...</td>\n",
       "      <td>...</td>\n",
       "    </tr>\n",
       "    <tr>\n",
       "      <th>2022-11-26 09:00:00</th>\n",
       "      <td>22677000.0</td>\n",
       "      <td>22862000.0</td>\n",
       "      <td>22605000.0</td>\n",
       "      <td>22660000.0</td>\n",
       "      <td>4.886589e+10</td>\n",
       "    </tr>\n",
       "    <tr>\n",
       "      <th>2022-11-27 09:00:00</th>\n",
       "      <td>22646000.0</td>\n",
       "      <td>22774000.0</td>\n",
       "      <td>22605000.0</td>\n",
       "      <td>22646000.0</td>\n",
       "      <td>4.517556e+10</td>\n",
       "    </tr>\n",
       "    <tr>\n",
       "      <th>2022-11-28 09:00:00</th>\n",
       "      <td>22661000.0</td>\n",
       "      <td>22690000.0</td>\n",
       "      <td>22217000.0</td>\n",
       "      <td>22339000.0</td>\n",
       "      <td>8.021448e+10</td>\n",
       "    </tr>\n",
       "    <tr>\n",
       "      <th>2022-11-29 09:00:00</th>\n",
       "      <td>22329000.0</td>\n",
       "      <td>22617000.0</td>\n",
       "      <td>22155000.0</td>\n",
       "      <td>22417000.0</td>\n",
       "      <td>5.664776e+10</td>\n",
       "    </tr>\n",
       "    <tr>\n",
       "      <th>2022-11-30 09:00:00</th>\n",
       "      <td>22417000.0</td>\n",
       "      <td>23113000.0</td>\n",
       "      <td>22415000.0</td>\n",
       "      <td>22819000.0</td>\n",
       "      <td>6.504435e+10</td>\n",
       "    </tr>\n",
       "  </tbody>\n",
       "</table>\n",
       "<p>200 rows × 5 columns</p>\n",
       "</div>"
      ],
      "text/plain": [
       "                           open        high         low       close  \\\n",
       "2022-05-15 09:00:00  39967000.0  41000000.0  39270000.0  40906000.0   \n",
       "2022-05-16 09:00:00  40902000.0  40940000.0  38620000.0  39256000.0   \n",
       "2022-05-17 09:00:00  39260000.0  39900000.0  38416000.0  39259000.0   \n",
       "2022-05-18 09:00:00  39260000.0  39464000.0  37001000.0  37099000.0   \n",
       "2022-05-19 09:00:00  37100000.0  39085000.0  37000000.0  38780000.0   \n",
       "...                         ...         ...         ...         ...   \n",
       "2022-11-26 09:00:00  22677000.0  22862000.0  22605000.0  22660000.0   \n",
       "2022-11-27 09:00:00  22646000.0  22774000.0  22605000.0  22646000.0   \n",
       "2022-11-28 09:00:00  22661000.0  22690000.0  22217000.0  22339000.0   \n",
       "2022-11-29 09:00:00  22329000.0  22617000.0  22155000.0  22417000.0   \n",
       "2022-11-30 09:00:00  22417000.0  23113000.0  22415000.0  22819000.0   \n",
       "\n",
       "                            value  \n",
       "2022-05-15 09:00:00  1.706726e+11  \n",
       "2022-05-16 09:00:00  2.243704e+11  \n",
       "2022-05-17 09:00:00  2.105359e+11  \n",
       "2022-05-18 09:00:00  2.430866e+11  \n",
       "2022-05-19 09:00:00  2.429746e+11  \n",
       "...                           ...  \n",
       "2022-11-26 09:00:00  4.886589e+10  \n",
       "2022-11-27 09:00:00  4.517556e+10  \n",
       "2022-11-28 09:00:00  8.021448e+10  \n",
       "2022-11-29 09:00:00  5.664776e+10  \n",
       "2022-11-30 09:00:00  6.504435e+10  \n",
       "\n",
       "[200 rows x 5 columns]"
      ]
     },
     "execution_count": 88,
     "metadata": {},
     "output_type": "execute_result"
    }
   ],
   "source": [
    "df"
   ]
  },
  {
   "cell_type": "markdown",
   "id": "77304763",
   "metadata": {},
   "source": [
    "# 브로드캐스팅\n",
    "# 하나의 연산이 한 컬럼의 모든 데이터에 적용됨"
   ]
  },
  {
   "cell_type": "code",
   "execution_count": 96,
   "id": "3a6c44ea",
   "metadata": {},
   "outputs": [
    {
     "name": "stdout",
     "output_type": "stream",
     "text": [
      "                      open   high    low  close        volume         value\n",
      "2022-05-15 09:00:00  568.0  587.0  552.0  586.0  2.851689e+08  1.614677e+11\n",
      "2022-05-16 09:00:00  586.0  586.0  544.0  557.0  3.505526e+08  1.961059e+11\n",
      "2022-05-17 09:00:00  557.0  569.0  544.0  564.0  2.977029e+08  1.666707e+11\n",
      "2022-05-18 09:00:00  564.0  569.0  522.0  523.0  3.119279e+08  1.694536e+11\n",
      "2022-05-19 09:00:00  523.0  544.0  506.0  539.0  3.486226e+08  1.837846e+11\n",
      "...                    ...    ...    ...    ...           ...           ...\n",
      "2022-11-26 09:00:00  558.0  568.0  543.0  545.0  1.737511e+08  9.660191e+10\n",
      "2022-11-27 09:00:00  545.0  566.0  544.0  546.0  2.075014e+08  1.148883e+11\n",
      "2022-11-28 09:00:00  545.0  549.0  518.0  535.0  2.668986e+08  1.412097e+11\n",
      "2022-11-29 09:00:00  535.0  550.0  526.0  543.0  2.042028e+08  1.094031e+11\n",
      "2022-11-30 09:00:00  542.0  555.0  540.0  541.0  1.261943e+08  6.904036e+10\n",
      "\n",
      "[200 rows x 6 columns]\n"
     ]
    },
    {
     "data": {
      "text/plain": [
       "2022-05-15 09:00:00    668.0\n",
       "2022-05-16 09:00:00    686.0\n",
       "2022-05-17 09:00:00    657.0\n",
       "2022-05-18 09:00:00    664.0\n",
       "2022-05-19 09:00:00    623.0\n",
       "                       ...  \n",
       "2022-11-26 09:00:00    658.0\n",
       "2022-11-27 09:00:00    645.0\n",
       "2022-11-28 09:00:00    645.0\n",
       "2022-11-29 09:00:00    635.0\n",
       "2022-11-30 09:00:00    642.0\n",
       "Name: open, Length: 200, dtype: float64"
      ]
     },
     "execution_count": 96,
     "metadata": {},
     "output_type": "execute_result"
    }
   ],
   "source": [
    "import pyupbit\n",
    "df = pyupbit.get_ohlcv(\"KRW-XRP\")\n",
    "print(df)\n",
    "df['open'] + 100 #특정 컬럼에 +100 하면 그 세로줄이 모두 적용됨 시가에 100원을 더해라 "
   ]
  },
  {
   "cell_type": "markdown",
   "id": "ef79b174",
   "metadata": {},
   "source": [
    "# 데이터 프레임 필터링"
   ]
  },
  {
   "cell_type": "code",
   "execution_count": 98,
   "id": "6c1dea5c",
   "metadata": {},
   "outputs": [
    {
     "data": {
      "text/html": [
       "<div>\n",
       "<style scoped>\n",
       "    .dataframe tbody tr th:only-of-type {\n",
       "        vertical-align: middle;\n",
       "    }\n",
       "\n",
       "    .dataframe tbody tr th {\n",
       "        vertical-align: top;\n",
       "    }\n",
       "\n",
       "    .dataframe thead th {\n",
       "        text-align: right;\n",
       "    }\n",
       "</style>\n",
       "<table border=\"1\" class=\"dataframe\">\n",
       "  <thead>\n",
       "    <tr style=\"text-align: right;\">\n",
       "      <th></th>\n",
       "      <th>open</th>\n",
       "      <th>high</th>\n",
       "      <th>low</th>\n",
       "      <th>close</th>\n",
       "      <th>volume</th>\n",
       "      <th>value</th>\n",
       "    </tr>\n",
       "  </thead>\n",
       "  <tbody>\n",
       "    <tr>\n",
       "      <th>2022-05-15 09:00:00</th>\n",
       "      <td>568.0</td>\n",
       "      <td>587.0</td>\n",
       "      <td>552.0</td>\n",
       "      <td>586.0</td>\n",
       "      <td>2.851689e+08</td>\n",
       "      <td>1.614677e+11</td>\n",
       "    </tr>\n",
       "    <tr>\n",
       "      <th>2022-05-16 09:00:00</th>\n",
       "      <td>586.0</td>\n",
       "      <td>586.0</td>\n",
       "      <td>544.0</td>\n",
       "      <td>557.0</td>\n",
       "      <td>3.505526e+08</td>\n",
       "      <td>1.961059e+11</td>\n",
       "    </tr>\n",
       "    <tr>\n",
       "      <th>2022-05-17 09:00:00</th>\n",
       "      <td>557.0</td>\n",
       "      <td>569.0</td>\n",
       "      <td>544.0</td>\n",
       "      <td>564.0</td>\n",
       "      <td>2.977029e+08</td>\n",
       "      <td>1.666707e+11</td>\n",
       "    </tr>\n",
       "    <tr>\n",
       "      <th>2022-05-18 09:00:00</th>\n",
       "      <td>564.0</td>\n",
       "      <td>569.0</td>\n",
       "      <td>522.0</td>\n",
       "      <td>523.0</td>\n",
       "      <td>3.119279e+08</td>\n",
       "      <td>1.694536e+11</td>\n",
       "    </tr>\n",
       "    <tr>\n",
       "      <th>2022-05-19 09:00:00</th>\n",
       "      <td>523.0</td>\n",
       "      <td>544.0</td>\n",
       "      <td>506.0</td>\n",
       "      <td>539.0</td>\n",
       "      <td>3.486226e+08</td>\n",
       "      <td>1.837846e+11</td>\n",
       "    </tr>\n",
       "    <tr>\n",
       "      <th>...</th>\n",
       "      <td>...</td>\n",
       "      <td>...</td>\n",
       "      <td>...</td>\n",
       "      <td>...</td>\n",
       "      <td>...</td>\n",
       "      <td>...</td>\n",
       "    </tr>\n",
       "    <tr>\n",
       "      <th>2022-11-26 09:00:00</th>\n",
       "      <td>558.0</td>\n",
       "      <td>568.0</td>\n",
       "      <td>543.0</td>\n",
       "      <td>545.0</td>\n",
       "      <td>1.737511e+08</td>\n",
       "      <td>9.660191e+10</td>\n",
       "    </tr>\n",
       "    <tr>\n",
       "      <th>2022-11-27 09:00:00</th>\n",
       "      <td>545.0</td>\n",
       "      <td>566.0</td>\n",
       "      <td>544.0</td>\n",
       "      <td>546.0</td>\n",
       "      <td>2.075014e+08</td>\n",
       "      <td>1.148883e+11</td>\n",
       "    </tr>\n",
       "    <tr>\n",
       "      <th>2022-11-28 09:00:00</th>\n",
       "      <td>545.0</td>\n",
       "      <td>549.0</td>\n",
       "      <td>518.0</td>\n",
       "      <td>535.0</td>\n",
       "      <td>2.668986e+08</td>\n",
       "      <td>1.412097e+11</td>\n",
       "    </tr>\n",
       "    <tr>\n",
       "      <th>2022-11-29 09:00:00</th>\n",
       "      <td>535.0</td>\n",
       "      <td>550.0</td>\n",
       "      <td>526.0</td>\n",
       "      <td>543.0</td>\n",
       "      <td>2.042028e+08</td>\n",
       "      <td>1.094031e+11</td>\n",
       "    </tr>\n",
       "    <tr>\n",
       "      <th>2022-11-30 09:00:00</th>\n",
       "      <td>542.0</td>\n",
       "      <td>555.0</td>\n",
       "      <td>540.0</td>\n",
       "      <td>541.0</td>\n",
       "      <td>1.263642e+08</td>\n",
       "      <td>6.913238e+10</td>\n",
       "    </tr>\n",
       "  </tbody>\n",
       "</table>\n",
       "<p>200 rows × 6 columns</p>\n",
       "</div>"
      ],
      "text/plain": [
       "                      open   high    low  close        volume         value\n",
       "2022-05-15 09:00:00  568.0  587.0  552.0  586.0  2.851689e+08  1.614677e+11\n",
       "2022-05-16 09:00:00  586.0  586.0  544.0  557.0  3.505526e+08  1.961059e+11\n",
       "2022-05-17 09:00:00  557.0  569.0  544.0  564.0  2.977029e+08  1.666707e+11\n",
       "2022-05-18 09:00:00  564.0  569.0  522.0  523.0  3.119279e+08  1.694536e+11\n",
       "2022-05-19 09:00:00  523.0  544.0  506.0  539.0  3.486226e+08  1.837846e+11\n",
       "...                    ...    ...    ...    ...           ...           ...\n",
       "2022-11-26 09:00:00  558.0  568.0  543.0  545.0  1.737511e+08  9.660191e+10\n",
       "2022-11-27 09:00:00  545.0  566.0  544.0  546.0  2.075014e+08  1.148883e+11\n",
       "2022-11-28 09:00:00  545.0  549.0  518.0  535.0  2.668986e+08  1.412097e+11\n",
       "2022-11-29 09:00:00  535.0  550.0  526.0  543.0  2.042028e+08  1.094031e+11\n",
       "2022-11-30 09:00:00  542.0  555.0  540.0  541.0  1.263642e+08  6.913238e+10\n",
       "\n",
       "[200 rows x 6 columns]"
      ]
     },
     "execution_count": 98,
     "metadata": {},
     "output_type": "execute_result"
    }
   ],
   "source": [
    "import pyupbit\n",
    "df = pyupbit.get_ohlcv(\"KRW-XRP\")\n",
    "df"
   ]
  },
  {
   "cell_type": "code",
   "execution_count": 99,
   "id": "f5ab18b2",
   "metadata": {},
   "outputs": [
    {
     "data": {
      "text/plain": [
       "2022-05-15 09:00:00     True\n",
       "2022-05-16 09:00:00    False\n",
       "2022-05-17 09:00:00     True\n",
       "2022-05-18 09:00:00    False\n",
       "2022-05-19 09:00:00     True\n",
       "                       ...  \n",
       "2022-11-26 09:00:00    False\n",
       "2022-11-27 09:00:00     True\n",
       "2022-11-28 09:00:00    False\n",
       "2022-11-29 09:00:00     True\n",
       "2022-11-30 09:00:00    False\n",
       "Length: 200, dtype: bool"
      ]
     },
     "execution_count": 99,
     "metadata": {},
     "output_type": "execute_result"
    }
   ],
   "source": [
    "#종가가 시가보다 높았던 거래일만 필터링 해보기 \n",
    "cond = df['close'] > df['open'] # 특정거래일에 100원에 시작해서 120원에 끝났다 하면 20원 이득\n",
    "cond"
   ]
  },
  {
   "cell_type": "code",
   "execution_count": 101,
   "id": "734a7001",
   "metadata": {},
   "outputs": [
    {
     "data": {
      "text/html": [
       "<div>\n",
       "<style scoped>\n",
       "    .dataframe tbody tr th:only-of-type {\n",
       "        vertical-align: middle;\n",
       "    }\n",
       "\n",
       "    .dataframe tbody tr th {\n",
       "        vertical-align: top;\n",
       "    }\n",
       "\n",
       "    .dataframe thead th {\n",
       "        text-align: right;\n",
       "    }\n",
       "</style>\n",
       "<table border=\"1\" class=\"dataframe\">\n",
       "  <thead>\n",
       "    <tr style=\"text-align: right;\">\n",
       "      <th></th>\n",
       "      <th>open</th>\n",
       "      <th>high</th>\n",
       "      <th>low</th>\n",
       "      <th>close</th>\n",
       "      <th>volume</th>\n",
       "      <th>value</th>\n",
       "    </tr>\n",
       "  </thead>\n",
       "  <tbody>\n",
       "    <tr>\n",
       "      <th>2022-05-15 09:00:00</th>\n",
       "      <td>568.0</td>\n",
       "      <td>587.0</td>\n",
       "      <td>552.0</td>\n",
       "      <td>586.0</td>\n",
       "      <td>2.851689e+08</td>\n",
       "      <td>1.614677e+11</td>\n",
       "    </tr>\n",
       "    <tr>\n",
       "      <th>2022-05-16 09:00:00</th>\n",
       "      <td>586.0</td>\n",
       "      <td>586.0</td>\n",
       "      <td>544.0</td>\n",
       "      <td>557.0</td>\n",
       "      <td>3.505526e+08</td>\n",
       "      <td>1.961059e+11</td>\n",
       "    </tr>\n",
       "  </tbody>\n",
       "</table>\n",
       "</div>"
      ],
      "text/plain": [
       "                      open   high    low  close        volume         value\n",
       "2022-05-15 09:00:00  568.0  587.0  552.0  586.0  2.851689e+08  1.614677e+11\n",
       "2022-05-16 09:00:00  586.0  586.0  544.0  557.0  3.505526e+08  1.961059e+11"
      ]
     },
     "execution_count": 101,
     "metadata": {},
     "output_type": "execute_result"
    }
   ],
   "source": [
    "df.head(n=2) #가장 오래된 거 n=2면 두개만 보여짐 "
   ]
  },
  {
   "cell_type": "code",
   "execution_count": 102,
   "id": "8d88105a",
   "metadata": {},
   "outputs": [
    {
     "data": {
      "text/html": [
       "<div>\n",
       "<style scoped>\n",
       "    .dataframe tbody tr th:only-of-type {\n",
       "        vertical-align: middle;\n",
       "    }\n",
       "\n",
       "    .dataframe tbody tr th {\n",
       "        vertical-align: top;\n",
       "    }\n",
       "\n",
       "    .dataframe thead th {\n",
       "        text-align: right;\n",
       "    }\n",
       "</style>\n",
       "<table border=\"1\" class=\"dataframe\">\n",
       "  <thead>\n",
       "    <tr style=\"text-align: right;\">\n",
       "      <th></th>\n",
       "      <th>open</th>\n",
       "      <th>high</th>\n",
       "      <th>low</th>\n",
       "      <th>close</th>\n",
       "      <th>volume</th>\n",
       "      <th>value</th>\n",
       "    </tr>\n",
       "  </thead>\n",
       "  <tbody>\n",
       "    <tr>\n",
       "      <th>2022-05-15 09:00:00</th>\n",
       "      <td>568.0</td>\n",
       "      <td>587.0</td>\n",
       "      <td>552.0</td>\n",
       "      <td>586.0</td>\n",
       "      <td>2.851689e+08</td>\n",
       "      <td>1.614677e+11</td>\n",
       "    </tr>\n",
       "    <tr>\n",
       "      <th>2022-05-17 09:00:00</th>\n",
       "      <td>557.0</td>\n",
       "      <td>569.0</td>\n",
       "      <td>544.0</td>\n",
       "      <td>564.0</td>\n",
       "      <td>2.977029e+08</td>\n",
       "      <td>1.666707e+11</td>\n",
       "    </tr>\n",
       "    <tr>\n",
       "      <th>2022-05-19 09:00:00</th>\n",
       "      <td>523.0</td>\n",
       "      <td>544.0</td>\n",
       "      <td>506.0</td>\n",
       "      <td>539.0</td>\n",
       "      <td>3.486226e+08</td>\n",
       "      <td>1.837846e+11</td>\n",
       "    </tr>\n",
       "    <tr>\n",
       "      <th>2022-05-21 09:00:00</th>\n",
       "      <td>532.0</td>\n",
       "      <td>539.0</td>\n",
       "      <td>522.0</td>\n",
       "      <td>534.0</td>\n",
       "      <td>1.450562e+08</td>\n",
       "      <td>7.715919e+10</td>\n",
       "    </tr>\n",
       "    <tr>\n",
       "      <th>2022-05-22 09:00:00</th>\n",
       "      <td>534.0</td>\n",
       "      <td>547.0</td>\n",
       "      <td>531.0</td>\n",
       "      <td>543.0</td>\n",
       "      <td>1.524037e+08</td>\n",
       "      <td>8.211777e+10</td>\n",
       "    </tr>\n",
       "    <tr>\n",
       "      <th>...</th>\n",
       "      <td>...</td>\n",
       "      <td>...</td>\n",
       "      <td>...</td>\n",
       "      <td>...</td>\n",
       "      <td>...</td>\n",
       "      <td>...</td>\n",
       "    </tr>\n",
       "    <tr>\n",
       "      <th>2022-11-23 09:00:00</th>\n",
       "      <td>523.0</td>\n",
       "      <td>529.0</td>\n",
       "      <td>514.0</td>\n",
       "      <td>528.0</td>\n",
       "      <td>2.319457e+08</td>\n",
       "      <td>1.211662e+11</td>\n",
       "    </tr>\n",
       "    <tr>\n",
       "      <th>2022-11-24 09:00:00</th>\n",
       "      <td>527.0</td>\n",
       "      <td>555.0</td>\n",
       "      <td>511.0</td>\n",
       "      <td>550.0</td>\n",
       "      <td>3.124352e+08</td>\n",
       "      <td>1.661327e+11</td>\n",
       "    </tr>\n",
       "    <tr>\n",
       "      <th>2022-11-25 09:00:00</th>\n",
       "      <td>550.0</td>\n",
       "      <td>575.0</td>\n",
       "      <td>534.0</td>\n",
       "      <td>558.0</td>\n",
       "      <td>3.822874e+08</td>\n",
       "      <td>2.134330e+11</td>\n",
       "    </tr>\n",
       "    <tr>\n",
       "      <th>2022-11-27 09:00:00</th>\n",
       "      <td>545.0</td>\n",
       "      <td>566.0</td>\n",
       "      <td>544.0</td>\n",
       "      <td>546.0</td>\n",
       "      <td>2.075014e+08</td>\n",
       "      <td>1.148883e+11</td>\n",
       "    </tr>\n",
       "    <tr>\n",
       "      <th>2022-11-29 09:00:00</th>\n",
       "      <td>535.0</td>\n",
       "      <td>550.0</td>\n",
       "      <td>526.0</td>\n",
       "      <td>543.0</td>\n",
       "      <td>2.042028e+08</td>\n",
       "      <td>1.094031e+11</td>\n",
       "    </tr>\n",
       "  </tbody>\n",
       "</table>\n",
       "<p>105 rows × 6 columns</p>\n",
       "</div>"
      ],
      "text/plain": [
       "                      open   high    low  close        volume         value\n",
       "2022-05-15 09:00:00  568.0  587.0  552.0  586.0  2.851689e+08  1.614677e+11\n",
       "2022-05-17 09:00:00  557.0  569.0  544.0  564.0  2.977029e+08  1.666707e+11\n",
       "2022-05-19 09:00:00  523.0  544.0  506.0  539.0  3.486226e+08  1.837846e+11\n",
       "2022-05-21 09:00:00  532.0  539.0  522.0  534.0  1.450562e+08  7.715919e+10\n",
       "2022-05-22 09:00:00  534.0  547.0  531.0  543.0  1.524037e+08  8.211777e+10\n",
       "...                    ...    ...    ...    ...           ...           ...\n",
       "2022-11-23 09:00:00  523.0  529.0  514.0  528.0  2.319457e+08  1.211662e+11\n",
       "2022-11-24 09:00:00  527.0  555.0  511.0  550.0  3.124352e+08  1.661327e+11\n",
       "2022-11-25 09:00:00  550.0  575.0  534.0  558.0  3.822874e+08  2.134330e+11\n",
       "2022-11-27 09:00:00  545.0  566.0  544.0  546.0  2.075014e+08  1.148883e+11\n",
       "2022-11-29 09:00:00  535.0  550.0  526.0  543.0  2.042028e+08  1.094031e+11\n",
       "\n",
       "[105 rows x 6 columns]"
      ]
     },
     "execution_count": 102,
     "metadata": {},
     "output_type": "execute_result"
    }
   ],
   "source": [
    "df[cond] #cond 종가 > 시가가 True인 값만 뽑아줌 \n",
    "# 200개의 데이터중에 105개가 True라서 출력 됐으므로 105일 상승 했다. "
   ]
  },
  {
   "cell_type": "markdown",
   "id": "40839bf3",
   "metadata": {},
   "source": [
    "# 컬럼시프트 동일 컬럼에서 위 아래로 뺄 때\n",
    "데이터프레임 연산은 기본적으로 같은 인덱스에 있는 컬럼과 컬럼사이에 적용됨\n",
    " \n",
    "df['high'] - df['low']\n"
   ]
  },
  {
   "cell_type": "code",
   "execution_count": 111,
   "id": "426a59e7",
   "metadata": {},
   "outputs": [
    {
     "ename": "KeyError",
     "evalue": "\"['volume', 'value'] not found in axis\"",
     "output_type": "error",
     "traceback": [
      "\u001b[1;31m---------------------------------------------------------------------------\u001b[0m",
      "\u001b[1;31mKeyError\u001b[0m                                  Traceback (most recent call last)",
      "\u001b[1;32m~\\AppData\\Local\\Temp\\ipykernel_7780\\1076062707.py\u001b[0m in \u001b[0;36m<module>\u001b[1;34m\u001b[0m\n\u001b[1;32m----> 1\u001b[1;33m \u001b[0mdf\u001b[0m\u001b[1;33m.\u001b[0m\u001b[0mdrop\u001b[0m\u001b[1;33m(\u001b[0m\u001b[1;33m[\u001b[0m\u001b[1;34m'volume'\u001b[0m\u001b[1;33m,\u001b[0m\u001b[1;34m'value'\u001b[0m\u001b[1;33m,\u001b[0m\u001b[1;33m]\u001b[0m\u001b[1;33m,\u001b[0m \u001b[0maxis\u001b[0m\u001b[1;33m=\u001b[0m\u001b[1;36m1\u001b[0m\u001b[1;33m,\u001b[0m \u001b[0minplace\u001b[0m\u001b[1;33m=\u001b[0m\u001b[1;32mTrue\u001b[0m\u001b[1;33m)\u001b[0m\u001b[1;33m\u001b[0m\u001b[1;33m\u001b[0m\u001b[0m\n\u001b[0m",
      "\u001b[1;32mD:\\anaconda\\lib\\site-packages\\pandas\\util\\_decorators.py\u001b[0m in \u001b[0;36mwrapper\u001b[1;34m(*args, **kwargs)\u001b[0m\n\u001b[0;32m    309\u001b[0m                     \u001b[0mstacklevel\u001b[0m\u001b[1;33m=\u001b[0m\u001b[0mstacklevel\u001b[0m\u001b[1;33m,\u001b[0m\u001b[1;33m\u001b[0m\u001b[1;33m\u001b[0m\u001b[0m\n\u001b[0;32m    310\u001b[0m                 )\n\u001b[1;32m--> 311\u001b[1;33m             \u001b[1;32mreturn\u001b[0m \u001b[0mfunc\u001b[0m\u001b[1;33m(\u001b[0m\u001b[1;33m*\u001b[0m\u001b[0margs\u001b[0m\u001b[1;33m,\u001b[0m \u001b[1;33m**\u001b[0m\u001b[0mkwargs\u001b[0m\u001b[1;33m)\u001b[0m\u001b[1;33m\u001b[0m\u001b[1;33m\u001b[0m\u001b[0m\n\u001b[0m\u001b[0;32m    312\u001b[0m \u001b[1;33m\u001b[0m\u001b[0m\n\u001b[0;32m    313\u001b[0m         \u001b[1;32mreturn\u001b[0m \u001b[0mwrapper\u001b[0m\u001b[1;33m\u001b[0m\u001b[1;33m\u001b[0m\u001b[0m\n",
      "\u001b[1;32mD:\\anaconda\\lib\\site-packages\\pandas\\core\\frame.py\u001b[0m in \u001b[0;36mdrop\u001b[1;34m(self, labels, axis, index, columns, level, inplace, errors)\u001b[0m\n\u001b[0;32m   4955\u001b[0m                 \u001b[0mweight\u001b[0m  \u001b[1;36m1.0\u001b[0m     \u001b[1;36m0.8\u001b[0m\u001b[1;33m\u001b[0m\u001b[1;33m\u001b[0m\u001b[0m\n\u001b[0;32m   4956\u001b[0m         \"\"\"\n\u001b[1;32m-> 4957\u001b[1;33m         return super().drop(\n\u001b[0m\u001b[0;32m   4958\u001b[0m             \u001b[0mlabels\u001b[0m\u001b[1;33m=\u001b[0m\u001b[0mlabels\u001b[0m\u001b[1;33m,\u001b[0m\u001b[1;33m\u001b[0m\u001b[1;33m\u001b[0m\u001b[0m\n\u001b[0;32m   4959\u001b[0m             \u001b[0maxis\u001b[0m\u001b[1;33m=\u001b[0m\u001b[0maxis\u001b[0m\u001b[1;33m,\u001b[0m\u001b[1;33m\u001b[0m\u001b[1;33m\u001b[0m\u001b[0m\n",
      "\u001b[1;32mD:\\anaconda\\lib\\site-packages\\pandas\\core\\generic.py\u001b[0m in \u001b[0;36mdrop\u001b[1;34m(self, labels, axis, index, columns, level, inplace, errors)\u001b[0m\n\u001b[0;32m   4265\u001b[0m         \u001b[1;32mfor\u001b[0m \u001b[0maxis\u001b[0m\u001b[1;33m,\u001b[0m \u001b[0mlabels\u001b[0m \u001b[1;32min\u001b[0m \u001b[0maxes\u001b[0m\u001b[1;33m.\u001b[0m\u001b[0mitems\u001b[0m\u001b[1;33m(\u001b[0m\u001b[1;33m)\u001b[0m\u001b[1;33m:\u001b[0m\u001b[1;33m\u001b[0m\u001b[1;33m\u001b[0m\u001b[0m\n\u001b[0;32m   4266\u001b[0m             \u001b[1;32mif\u001b[0m \u001b[0mlabels\u001b[0m \u001b[1;32mis\u001b[0m \u001b[1;32mnot\u001b[0m \u001b[1;32mNone\u001b[0m\u001b[1;33m:\u001b[0m\u001b[1;33m\u001b[0m\u001b[1;33m\u001b[0m\u001b[0m\n\u001b[1;32m-> 4267\u001b[1;33m                 \u001b[0mobj\u001b[0m \u001b[1;33m=\u001b[0m \u001b[0mobj\u001b[0m\u001b[1;33m.\u001b[0m\u001b[0m_drop_axis\u001b[0m\u001b[1;33m(\u001b[0m\u001b[0mlabels\u001b[0m\u001b[1;33m,\u001b[0m \u001b[0maxis\u001b[0m\u001b[1;33m,\u001b[0m \u001b[0mlevel\u001b[0m\u001b[1;33m=\u001b[0m\u001b[0mlevel\u001b[0m\u001b[1;33m,\u001b[0m \u001b[0merrors\u001b[0m\u001b[1;33m=\u001b[0m\u001b[0merrors\u001b[0m\u001b[1;33m)\u001b[0m\u001b[1;33m\u001b[0m\u001b[1;33m\u001b[0m\u001b[0m\n\u001b[0m\u001b[0;32m   4268\u001b[0m \u001b[1;33m\u001b[0m\u001b[0m\n\u001b[0;32m   4269\u001b[0m         \u001b[1;32mif\u001b[0m \u001b[0minplace\u001b[0m\u001b[1;33m:\u001b[0m\u001b[1;33m\u001b[0m\u001b[1;33m\u001b[0m\u001b[0m\n",
      "\u001b[1;32mD:\\anaconda\\lib\\site-packages\\pandas\\core\\generic.py\u001b[0m in \u001b[0;36m_drop_axis\u001b[1;34m(self, labels, axis, level, errors, consolidate, only_slice)\u001b[0m\n\u001b[0;32m   4309\u001b[0m                 \u001b[0mnew_axis\u001b[0m \u001b[1;33m=\u001b[0m \u001b[0maxis\u001b[0m\u001b[1;33m.\u001b[0m\u001b[0mdrop\u001b[0m\u001b[1;33m(\u001b[0m\u001b[0mlabels\u001b[0m\u001b[1;33m,\u001b[0m \u001b[0mlevel\u001b[0m\u001b[1;33m=\u001b[0m\u001b[0mlevel\u001b[0m\u001b[1;33m,\u001b[0m \u001b[0merrors\u001b[0m\u001b[1;33m=\u001b[0m\u001b[0merrors\u001b[0m\u001b[1;33m)\u001b[0m\u001b[1;33m\u001b[0m\u001b[1;33m\u001b[0m\u001b[0m\n\u001b[0;32m   4310\u001b[0m             \u001b[1;32melse\u001b[0m\u001b[1;33m:\u001b[0m\u001b[1;33m\u001b[0m\u001b[1;33m\u001b[0m\u001b[0m\n\u001b[1;32m-> 4311\u001b[1;33m                 \u001b[0mnew_axis\u001b[0m \u001b[1;33m=\u001b[0m \u001b[0maxis\u001b[0m\u001b[1;33m.\u001b[0m\u001b[0mdrop\u001b[0m\u001b[1;33m(\u001b[0m\u001b[0mlabels\u001b[0m\u001b[1;33m,\u001b[0m \u001b[0merrors\u001b[0m\u001b[1;33m=\u001b[0m\u001b[0merrors\u001b[0m\u001b[1;33m)\u001b[0m\u001b[1;33m\u001b[0m\u001b[1;33m\u001b[0m\u001b[0m\n\u001b[0m\u001b[0;32m   4312\u001b[0m             \u001b[0mindexer\u001b[0m \u001b[1;33m=\u001b[0m \u001b[0maxis\u001b[0m\u001b[1;33m.\u001b[0m\u001b[0mget_indexer\u001b[0m\u001b[1;33m(\u001b[0m\u001b[0mnew_axis\u001b[0m\u001b[1;33m)\u001b[0m\u001b[1;33m\u001b[0m\u001b[1;33m\u001b[0m\u001b[0m\n\u001b[0;32m   4313\u001b[0m \u001b[1;33m\u001b[0m\u001b[0m\n",
      "\u001b[1;32mD:\\anaconda\\lib\\site-packages\\pandas\\core\\indexes\\base.py\u001b[0m in \u001b[0;36mdrop\u001b[1;34m(self, labels, errors)\u001b[0m\n\u001b[0;32m   6659\u001b[0m         \u001b[1;32mif\u001b[0m \u001b[0mmask\u001b[0m\u001b[1;33m.\u001b[0m\u001b[0many\u001b[0m\u001b[1;33m(\u001b[0m\u001b[1;33m)\u001b[0m\u001b[1;33m:\u001b[0m\u001b[1;33m\u001b[0m\u001b[1;33m\u001b[0m\u001b[0m\n\u001b[0;32m   6660\u001b[0m             \u001b[1;32mif\u001b[0m \u001b[0merrors\u001b[0m \u001b[1;33m!=\u001b[0m \u001b[1;34m\"ignore\"\u001b[0m\u001b[1;33m:\u001b[0m\u001b[1;33m\u001b[0m\u001b[1;33m\u001b[0m\u001b[0m\n\u001b[1;32m-> 6661\u001b[1;33m                 \u001b[1;32mraise\u001b[0m \u001b[0mKeyError\u001b[0m\u001b[1;33m(\u001b[0m\u001b[1;34mf\"{list(labels[mask])} not found in axis\"\u001b[0m\u001b[1;33m)\u001b[0m\u001b[1;33m\u001b[0m\u001b[1;33m\u001b[0m\u001b[0m\n\u001b[0m\u001b[0;32m   6662\u001b[0m             \u001b[0mindexer\u001b[0m \u001b[1;33m=\u001b[0m \u001b[0mindexer\u001b[0m\u001b[1;33m[\u001b[0m\u001b[1;33m~\u001b[0m\u001b[0mmask\u001b[0m\u001b[1;33m]\u001b[0m\u001b[1;33m\u001b[0m\u001b[1;33m\u001b[0m\u001b[0m\n\u001b[0;32m   6663\u001b[0m         \u001b[1;32mreturn\u001b[0m \u001b[0mself\u001b[0m\u001b[1;33m.\u001b[0m\u001b[0mdelete\u001b[0m\u001b[1;33m(\u001b[0m\u001b[0mindexer\u001b[0m\u001b[1;33m)\u001b[0m\u001b[1;33m\u001b[0m\u001b[1;33m\u001b[0m\u001b[0m\n",
      "\u001b[1;31mKeyError\u001b[0m: \"['volume', 'value'] not found in axis\""
     ]
    }
   ],
   "source": [
    "df.drop(['volume','value',], axis=1, inplace=True)"
   ]
  },
  {
   "cell_type": "markdown",
   "id": "2b9e7d6f",
   "metadata": {},
   "source": [
    "# 컬럼 위 아래를 빼는 건 판다스에 없기 때문에 따로 컬럼을 하나 만들어서 컬럼-컬럼을 해준다"
   ]
  },
  {
   "cell_type": "code",
   "execution_count": 127,
   "id": "134b1e11",
   "metadata": {},
   "outputs": [
    {
     "data": {
      "text/html": [
       "<div>\n",
       "<style scoped>\n",
       "    .dataframe tbody tr th:only-of-type {\n",
       "        vertical-align: middle;\n",
       "    }\n",
       "\n",
       "    .dataframe tbody tr th {\n",
       "        vertical-align: top;\n",
       "    }\n",
       "\n",
       "    .dataframe thead th {\n",
       "        text-align: right;\n",
       "    }\n",
       "</style>\n",
       "<table border=\"1\" class=\"dataframe\">\n",
       "  <thead>\n",
       "    <tr style=\"text-align: right;\">\n",
       "      <th></th>\n",
       "      <th>open</th>\n",
       "      <th>high</th>\n",
       "      <th>low</th>\n",
       "      <th>close</th>\n",
       "      <th>last</th>\n",
       "      <th>시프트</th>\n",
       "    </tr>\n",
       "  </thead>\n",
       "  <tbody>\n",
       "    <tr>\n",
       "      <th>2022-05-15 09:00:00</th>\n",
       "      <td>568.0</td>\n",
       "      <td>587.0</td>\n",
       "      <td>552.0</td>\n",
       "      <td>586.0</td>\n",
       "      <td>NaN</td>\n",
       "      <td>NaN</td>\n",
       "    </tr>\n",
       "    <tr>\n",
       "      <th>2022-05-16 09:00:00</th>\n",
       "      <td>586.0</td>\n",
       "      <td>586.0</td>\n",
       "      <td>544.0</td>\n",
       "      <td>557.0</td>\n",
       "      <td>29.0</td>\n",
       "      <td>586.0</td>\n",
       "    </tr>\n",
       "    <tr>\n",
       "      <th>2022-05-17 09:00:00</th>\n",
       "      <td>557.0</td>\n",
       "      <td>569.0</td>\n",
       "      <td>544.0</td>\n",
       "      <td>564.0</td>\n",
       "      <td>-7.0</td>\n",
       "      <td>557.0</td>\n",
       "    </tr>\n",
       "    <tr>\n",
       "      <th>2022-05-18 09:00:00</th>\n",
       "      <td>564.0</td>\n",
       "      <td>569.0</td>\n",
       "      <td>522.0</td>\n",
       "      <td>523.0</td>\n",
       "      <td>41.0</td>\n",
       "      <td>564.0</td>\n",
       "    </tr>\n",
       "    <tr>\n",
       "      <th>2022-05-19 09:00:00</th>\n",
       "      <td>523.0</td>\n",
       "      <td>544.0</td>\n",
       "      <td>506.0</td>\n",
       "      <td>539.0</td>\n",
       "      <td>-16.0</td>\n",
       "      <td>523.0</td>\n",
       "    </tr>\n",
       "    <tr>\n",
       "      <th>...</th>\n",
       "      <td>...</td>\n",
       "      <td>...</td>\n",
       "      <td>...</td>\n",
       "      <td>...</td>\n",
       "      <td>...</td>\n",
       "      <td>...</td>\n",
       "    </tr>\n",
       "    <tr>\n",
       "      <th>2022-11-26 09:00:00</th>\n",
       "      <td>558.0</td>\n",
       "      <td>568.0</td>\n",
       "      <td>543.0</td>\n",
       "      <td>545.0</td>\n",
       "      <td>13.0</td>\n",
       "      <td>558.0</td>\n",
       "    </tr>\n",
       "    <tr>\n",
       "      <th>2022-11-27 09:00:00</th>\n",
       "      <td>545.0</td>\n",
       "      <td>566.0</td>\n",
       "      <td>544.0</td>\n",
       "      <td>546.0</td>\n",
       "      <td>-1.0</td>\n",
       "      <td>545.0</td>\n",
       "    </tr>\n",
       "    <tr>\n",
       "      <th>2022-11-28 09:00:00</th>\n",
       "      <td>545.0</td>\n",
       "      <td>549.0</td>\n",
       "      <td>518.0</td>\n",
       "      <td>535.0</td>\n",
       "      <td>11.0</td>\n",
       "      <td>546.0</td>\n",
       "    </tr>\n",
       "    <tr>\n",
       "      <th>2022-11-29 09:00:00</th>\n",
       "      <td>535.0</td>\n",
       "      <td>550.0</td>\n",
       "      <td>526.0</td>\n",
       "      <td>543.0</td>\n",
       "      <td>-8.0</td>\n",
       "      <td>535.0</td>\n",
       "    </tr>\n",
       "    <tr>\n",
       "      <th>2022-11-30 09:00:00</th>\n",
       "      <td>542.0</td>\n",
       "      <td>555.0</td>\n",
       "      <td>540.0</td>\n",
       "      <td>541.0</td>\n",
       "      <td>2.0</td>\n",
       "      <td>543.0</td>\n",
       "    </tr>\n",
       "  </tbody>\n",
       "</table>\n",
       "<p>200 rows × 6 columns</p>\n",
       "</div>"
      ],
      "text/plain": [
       "                      open   high    low  close  last    시프트\n",
       "2022-05-15 09:00:00  568.0  587.0  552.0  586.0   NaN    NaN\n",
       "2022-05-16 09:00:00  586.0  586.0  544.0  557.0  29.0  586.0\n",
       "2022-05-17 09:00:00  557.0  569.0  544.0  564.0  -7.0  557.0\n",
       "2022-05-18 09:00:00  564.0  569.0  522.0  523.0  41.0  564.0\n",
       "2022-05-19 09:00:00  523.0  544.0  506.0  539.0 -16.0  523.0\n",
       "...                    ...    ...    ...    ...   ...    ...\n",
       "2022-11-26 09:00:00  558.0  568.0  543.0  545.0  13.0  558.0\n",
       "2022-11-27 09:00:00  545.0  566.0  544.0  546.0  -1.0  545.0\n",
       "2022-11-28 09:00:00  545.0  549.0  518.0  535.0  11.0  546.0\n",
       "2022-11-29 09:00:00  535.0  550.0  526.0  543.0  -8.0  535.0\n",
       "2022-11-30 09:00:00  542.0  555.0  540.0  541.0   2.0  543.0\n",
       "\n",
       "[200 rows x 6 columns]"
      ]
     },
     "execution_count": 127,
     "metadata": {},
     "output_type": "execute_result"
    }
   ],
   "source": [
    "#특정 컬럼의 데이터를 아래로 하나 씩 이동\n",
    "df['시프트']=df['close'].shift(1) #close_shift1이라는 컬럼을 하나 만들고 close 데이터를 하나씩 밀려서 씀 \n",
    "# shift(2)면 2칸을 내리고 shift(-1)이면 한칸 위로 올림  \n",
    "df\n",
    "#df.drop('close_shift1',axis = 1 ,inplace = True)\n",
    "df"
   ]
  },
  {
   "cell_type": "code",
   "execution_count": 130,
   "id": "9ff82ecd",
   "metadata": {},
   "outputs": [],
   "source": [
    "# df에 last 라는 컬럼을 하나 만듬 그 내용은  close - 시프트 전날종가 - 당일종가 \n",
    "df['last'] = df['close'] - df['시프트']"
   ]
  },
  {
   "cell_type": "code",
   "execution_count": 131,
   "id": "85000c16",
   "metadata": {},
   "outputs": [
    {
     "data": {
      "text/html": [
       "<div>\n",
       "<style scoped>\n",
       "    .dataframe tbody tr th:only-of-type {\n",
       "        vertical-align: middle;\n",
       "    }\n",
       "\n",
       "    .dataframe tbody tr th {\n",
       "        vertical-align: top;\n",
       "    }\n",
       "\n",
       "    .dataframe thead th {\n",
       "        text-align: right;\n",
       "    }\n",
       "</style>\n",
       "<table border=\"1\" class=\"dataframe\">\n",
       "  <thead>\n",
       "    <tr style=\"text-align: right;\">\n",
       "      <th></th>\n",
       "      <th>open</th>\n",
       "      <th>high</th>\n",
       "      <th>low</th>\n",
       "      <th>close</th>\n",
       "      <th>last</th>\n",
       "      <th>시프트</th>\n",
       "    </tr>\n",
       "  </thead>\n",
       "  <tbody>\n",
       "    <tr>\n",
       "      <th>2022-05-15 09:00:00</th>\n",
       "      <td>568.0</td>\n",
       "      <td>587.0</td>\n",
       "      <td>552.0</td>\n",
       "      <td>586.0</td>\n",
       "      <td>NaN</td>\n",
       "      <td>NaN</td>\n",
       "    </tr>\n",
       "    <tr>\n",
       "      <th>2022-05-16 09:00:00</th>\n",
       "      <td>586.0</td>\n",
       "      <td>586.0</td>\n",
       "      <td>544.0</td>\n",
       "      <td>557.0</td>\n",
       "      <td>-29.0</td>\n",
       "      <td>586.0</td>\n",
       "    </tr>\n",
       "    <tr>\n",
       "      <th>2022-05-17 09:00:00</th>\n",
       "      <td>557.0</td>\n",
       "      <td>569.0</td>\n",
       "      <td>544.0</td>\n",
       "      <td>564.0</td>\n",
       "      <td>7.0</td>\n",
       "      <td>557.0</td>\n",
       "    </tr>\n",
       "    <tr>\n",
       "      <th>2022-05-18 09:00:00</th>\n",
       "      <td>564.0</td>\n",
       "      <td>569.0</td>\n",
       "      <td>522.0</td>\n",
       "      <td>523.0</td>\n",
       "      <td>-41.0</td>\n",
       "      <td>564.0</td>\n",
       "    </tr>\n",
       "    <tr>\n",
       "      <th>2022-05-19 09:00:00</th>\n",
       "      <td>523.0</td>\n",
       "      <td>544.0</td>\n",
       "      <td>506.0</td>\n",
       "      <td>539.0</td>\n",
       "      <td>16.0</td>\n",
       "      <td>523.0</td>\n",
       "    </tr>\n",
       "    <tr>\n",
       "      <th>...</th>\n",
       "      <td>...</td>\n",
       "      <td>...</td>\n",
       "      <td>...</td>\n",
       "      <td>...</td>\n",
       "      <td>...</td>\n",
       "      <td>...</td>\n",
       "    </tr>\n",
       "    <tr>\n",
       "      <th>2022-11-26 09:00:00</th>\n",
       "      <td>558.0</td>\n",
       "      <td>568.0</td>\n",
       "      <td>543.0</td>\n",
       "      <td>545.0</td>\n",
       "      <td>-13.0</td>\n",
       "      <td>558.0</td>\n",
       "    </tr>\n",
       "    <tr>\n",
       "      <th>2022-11-27 09:00:00</th>\n",
       "      <td>545.0</td>\n",
       "      <td>566.0</td>\n",
       "      <td>544.0</td>\n",
       "      <td>546.0</td>\n",
       "      <td>1.0</td>\n",
       "      <td>545.0</td>\n",
       "    </tr>\n",
       "    <tr>\n",
       "      <th>2022-11-28 09:00:00</th>\n",
       "      <td>545.0</td>\n",
       "      <td>549.0</td>\n",
       "      <td>518.0</td>\n",
       "      <td>535.0</td>\n",
       "      <td>-11.0</td>\n",
       "      <td>546.0</td>\n",
       "    </tr>\n",
       "    <tr>\n",
       "      <th>2022-11-29 09:00:00</th>\n",
       "      <td>535.0</td>\n",
       "      <td>550.0</td>\n",
       "      <td>526.0</td>\n",
       "      <td>543.0</td>\n",
       "      <td>8.0</td>\n",
       "      <td>535.0</td>\n",
       "    </tr>\n",
       "    <tr>\n",
       "      <th>2022-11-30 09:00:00</th>\n",
       "      <td>542.0</td>\n",
       "      <td>555.0</td>\n",
       "      <td>540.0</td>\n",
       "      <td>541.0</td>\n",
       "      <td>-2.0</td>\n",
       "      <td>543.0</td>\n",
       "    </tr>\n",
       "  </tbody>\n",
       "</table>\n",
       "<p>200 rows × 6 columns</p>\n",
       "</div>"
      ],
      "text/plain": [
       "                      open   high    low  close  last    시프트\n",
       "2022-05-15 09:00:00  568.0  587.0  552.0  586.0   NaN    NaN\n",
       "2022-05-16 09:00:00  586.0  586.0  544.0  557.0 -29.0  586.0\n",
       "2022-05-17 09:00:00  557.0  569.0  544.0  564.0   7.0  557.0\n",
       "2022-05-18 09:00:00  564.0  569.0  522.0  523.0 -41.0  564.0\n",
       "2022-05-19 09:00:00  523.0  544.0  506.0  539.0  16.0  523.0\n",
       "...                    ...    ...    ...    ...   ...    ...\n",
       "2022-11-26 09:00:00  558.0  568.0  543.0  545.0 -13.0  558.0\n",
       "2022-11-27 09:00:00  545.0  566.0  544.0  546.0   1.0  545.0\n",
       "2022-11-28 09:00:00  545.0  549.0  518.0  535.0 -11.0  546.0\n",
       "2022-11-29 09:00:00  535.0  550.0  526.0  543.0   8.0  535.0\n",
       "2022-11-30 09:00:00  542.0  555.0  540.0  541.0  -2.0  543.0\n",
       "\n",
       "[200 rows x 6 columns]"
      ]
     },
     "execution_count": 131,
     "metadata": {},
     "output_type": "execute_result"
    }
   ],
   "source": [
    "df\n",
    "#last 값이 음수면 close + last last 값이 양수면 close + 양수 시프트 값이 쉽게 나온다 "
   ]
  },
  {
   "cell_type": "code",
   "execution_count": 132,
   "id": "5fcb7098",
   "metadata": {},
   "outputs": [
    {
     "data": {
      "text/plain": [
       "2022-05-15 09:00:00    557.0\n",
       "2022-05-16 09:00:00    564.0\n",
       "2022-05-17 09:00:00    523.0\n",
       "2022-05-18 09:00:00    539.0\n",
       "2022-05-19 09:00:00    531.0\n",
       "                       ...  \n",
       "2022-11-26 09:00:00    546.0\n",
       "2022-11-27 09:00:00    535.0\n",
       "2022-11-28 09:00:00    543.0\n",
       "2022-11-29 09:00:00    541.0\n",
       "2022-11-30 09:00:00      NaN\n",
       "Name: close, Length: 200, dtype: float64"
      ]
     },
     "execution_count": 132,
     "metadata": {},
     "output_type": "execute_result"
    }
   ],
   "source": [
    "df['close'].shift(-1) #5월16일에 있던 557이 5월15일 557로 한칸 위로 올라 갔다 "
   ]
  },
  {
   "cell_type": "code",
   "execution_count": null,
   "id": "d40943b9",
   "metadata": {},
   "outputs": [],
   "source": []
  }
 ],
 "metadata": {
  "kernelspec": {
   "display_name": "Python 3 (ipykernel)",
   "language": "python",
   "name": "python3"
  },
  "language_info": {
   "codemirror_mode": {
    "name": "ipython",
    "version": 3
   },
   "file_extension": ".py",
   "mimetype": "text/x-python",
   "name": "python",
   "nbconvert_exporter": "python",
   "pygments_lexer": "ipython3",
   "version": "3.9.13"
  }
 },
 "nbformat": 4,
 "nbformat_minor": 5
}
